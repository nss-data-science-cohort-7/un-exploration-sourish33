{
 "cells": [
  {
   "cell_type": "code",
   "execution_count": 2,
   "metadata": {},
   "outputs": [],
   "source": [
    "import pandas as pd\n",
    "import numpy as np\n",
    "import matplotlib.pyplot as plt\n",
    "import seaborn as sns"
   ]
  },
  {
   "cell_type": "markdown",
   "metadata": {},
   "source": [
    "<style>\n",
    "    .md {\n",
    "        background-color: #42EADDFF;\n",
    "        color: #000000FF;\n",
    "    }\n",
    "</style>\n",
    "<div class=\"md\">\n",
    "<ul>\n",
    "<li>Import and display the data </li>\n",
    "<li>Rename columns conveniently</li>\n",
    "<li>Check for null values</li>\n",
    "<li>Remove unnecessary columns</li>\n",
    "<li>Show the resulting dataframe</li>\n",
    "<ul>\n",
    "</div>"
   ]
  },
  {
   "cell_type": "code",
   "execution_count": 3,
   "metadata": {},
   "outputs": [
    {
     "data": {
      "text/html": [
       "<div>\n",
       "<style scoped>\n",
       "    .dataframe tbody tr th:only-of-type {\n",
       "        vertical-align: middle;\n",
       "    }\n",
       "\n",
       "    .dataframe tbody tr th {\n",
       "        vertical-align: top;\n",
       "    }\n",
       "\n",
       "    .dataframe thead th {\n",
       "        text-align: right;\n",
       "    }\n",
       "</style>\n",
       "<table border=\"1\" class=\"dataframe\">\n",
       "  <thead>\n",
       "    <tr style=\"text-align: right;\">\n",
       "      <th></th>\n",
       "      <th>Country or territory of asylum or residence</th>\n",
       "      <th>Country or territory of origin</th>\n",
       "      <th>Year</th>\n",
       "      <th>Refugees*</th>\n",
       "      <th>Refugees assisted by UNHCR</th>\n",
       "      <th>Total refugees and people in refugee-like situations**</th>\n",
       "      <th>Total refugees and people in refugee-like situations assisted by UNHCR</th>\n",
       "    </tr>\n",
       "  </thead>\n",
       "  <tbody>\n",
       "    <tr>\n",
       "      <th>0</th>\n",
       "      <td>Afghanistan</td>\n",
       "      <td>Iran (Islamic Rep. of)</td>\n",
       "      <td>2021</td>\n",
       "      <td>38</td>\n",
       "      <td>38</td>\n",
       "      <td>38</td>\n",
       "      <td>38</td>\n",
       "    </tr>\n",
       "    <tr>\n",
       "      <th>1</th>\n",
       "      <td>Afghanistan</td>\n",
       "      <td>Pakistan</td>\n",
       "      <td>2021</td>\n",
       "      <td>72188</td>\n",
       "      <td>123</td>\n",
       "      <td>72188</td>\n",
       "      <td>123</td>\n",
       "    </tr>\n",
       "    <tr>\n",
       "      <th>2</th>\n",
       "      <td>Albania</td>\n",
       "      <td>China</td>\n",
       "      <td>2021</td>\n",
       "      <td>14</td>\n",
       "      <td>0</td>\n",
       "      <td>14</td>\n",
       "      <td>0</td>\n",
       "    </tr>\n",
       "    <tr>\n",
       "      <th>3</th>\n",
       "      <td>Albania</td>\n",
       "      <td>Egypt</td>\n",
       "      <td>2021</td>\n",
       "      <td>5</td>\n",
       "      <td>0</td>\n",
       "      <td>5</td>\n",
       "      <td>0</td>\n",
       "    </tr>\n",
       "    <tr>\n",
       "      <th>4</th>\n",
       "      <td>Albania</td>\n",
       "      <td>Iraq</td>\n",
       "      <td>2021</td>\n",
       "      <td>5</td>\n",
       "      <td>0</td>\n",
       "      <td>5</td>\n",
       "      <td>0</td>\n",
       "    </tr>\n",
       "  </tbody>\n",
       "</table>\n",
       "</div>"
      ],
      "text/plain": [
       "  Country or territory of asylum or residence Country or territory of origin  \\\n",
       "0                                 Afghanistan         Iran (Islamic Rep. of)   \n",
       "1                                 Afghanistan                       Pakistan   \n",
       "2                                     Albania                          China   \n",
       "3                                     Albania                          Egypt   \n",
       "4                                     Albania                           Iraq   \n",
       "\n",
       "   Year  Refugees*  Refugees assisted by UNHCR  \\\n",
       "0  2021         38                          38   \n",
       "1  2021      72188                         123   \n",
       "2  2021         14                           0   \n",
       "3  2021          5                           0   \n",
       "4  2021          5                           0   \n",
       "\n",
       "   Total refugees and people in refugee-like situations**  \\\n",
       "0                                                 38        \n",
       "1                                              72188        \n",
       "2                                                 14        \n",
       "3                                                  5        \n",
       "4                                                  5        \n",
       "\n",
       "   Total refugees and people in refugee-like situations assisted by UNHCR  \n",
       "0                                                 38                       \n",
       "1                                                123                       \n",
       "2                                                  0                       \n",
       "3                                                  0                       \n",
       "4                                                  0                       "
      ]
     },
     "execution_count": 3,
     "metadata": {},
     "output_type": "execute_result"
    }
   ],
   "source": [
    "refugees_df = pd.read_csv('../data/refugees.csv', skipfooter=4, engine='python')\n",
    "refugees_df.head()"
   ]
  },
  {
   "cell_type": "code",
   "execution_count": 4,
   "metadata": {},
   "outputs": [],
   "source": [
    "refugees_df = refugees_df.rename(columns={\"Country or territory of asylum or residence\": \"Acceptor\", \"Country or territory of origin\":\"Origin\", \"Refugees*\": \"Refugees\"})"
   ]
  },
  {
   "cell_type": "code",
   "execution_count": 5,
   "metadata": {},
   "outputs": [
    {
     "data": {
      "text/plain": [
       "False"
      ]
     },
     "execution_count": 5,
     "metadata": {},
     "output_type": "execute_result"
    }
   ],
   "source": [
    "refugees_df.isnull().values.any()"
   ]
  },
  {
   "cell_type": "code",
   "execution_count": 6,
   "metadata": {},
   "outputs": [],
   "source": [
    "cols_to_drop = [x for x in list(refugees_df) if x not in [\"Acceptor\", \"Origin\", \"Refugees\", \"Year\"]]\n",
    "refugees_df = refugees_df.drop(columns=cols_to_drop)"
   ]
  },
  {
   "cell_type": "code",
   "execution_count": 7,
   "metadata": {},
   "outputs": [
    {
     "data": {
      "text/html": [
       "<div>\n",
       "<style scoped>\n",
       "    .dataframe tbody tr th:only-of-type {\n",
       "        vertical-align: middle;\n",
       "    }\n",
       "\n",
       "    .dataframe tbody tr th {\n",
       "        vertical-align: top;\n",
       "    }\n",
       "\n",
       "    .dataframe thead th {\n",
       "        text-align: right;\n",
       "    }\n",
       "</style>\n",
       "<table border=\"1\" class=\"dataframe\">\n",
       "  <thead>\n",
       "    <tr style=\"text-align: right;\">\n",
       "      <th></th>\n",
       "      <th>Acceptor</th>\n",
       "      <th>Origin</th>\n",
       "      <th>Year</th>\n",
       "      <th>Refugees</th>\n",
       "    </tr>\n",
       "  </thead>\n",
       "  <tbody>\n",
       "    <tr>\n",
       "      <th>0</th>\n",
       "      <td>Afghanistan</td>\n",
       "      <td>Iran (Islamic Rep. of)</td>\n",
       "      <td>2021</td>\n",
       "      <td>38</td>\n",
       "    </tr>\n",
       "    <tr>\n",
       "      <th>1</th>\n",
       "      <td>Afghanistan</td>\n",
       "      <td>Pakistan</td>\n",
       "      <td>2021</td>\n",
       "      <td>72188</td>\n",
       "    </tr>\n",
       "    <tr>\n",
       "      <th>2</th>\n",
       "      <td>Albania</td>\n",
       "      <td>China</td>\n",
       "      <td>2021</td>\n",
       "      <td>14</td>\n",
       "    </tr>\n",
       "    <tr>\n",
       "      <th>3</th>\n",
       "      <td>Albania</td>\n",
       "      <td>Egypt</td>\n",
       "      <td>2021</td>\n",
       "      <td>5</td>\n",
       "    </tr>\n",
       "    <tr>\n",
       "      <th>4</th>\n",
       "      <td>Albania</td>\n",
       "      <td>Iraq</td>\n",
       "      <td>2021</td>\n",
       "      <td>5</td>\n",
       "    </tr>\n",
       "  </tbody>\n",
       "</table>\n",
       "</div>"
      ],
      "text/plain": [
       "      Acceptor                  Origin  Year  Refugees\n",
       "0  Afghanistan  Iran (Islamic Rep. of)  2021        38\n",
       "1  Afghanistan                Pakistan  2021     72188\n",
       "2      Albania                   China  2021        14\n",
       "3      Albania                   Egypt  2021         5\n",
       "4      Albania                    Iraq  2021         5"
      ]
     },
     "execution_count": 7,
     "metadata": {},
     "output_type": "execute_result"
    }
   ],
   "source": [
    "refugees_df.head()"
   ]
  },
  {
   "cell_type": "markdown",
   "metadata": {},
   "source": [
    "<style>\n",
    "    .md {\n",
    "        background-color: #42EADDFF;\n",
    "        color: #000000FF;\n",
    "    }\n",
    "</style>\n",
    "<div class=\"md\">\n",
    "<ul>\n",
    "<li>How many countries did regugees originate from and how many countries accepted refugees?  </li>\n",
    "<li>What is the time frame of the data? </li>\n",
    "<ul>\n",
    "</div>"
   ]
  },
  {
   "cell_type": "code",
   "execution_count": 8,
   "metadata": {},
   "outputs": [
    {
     "name": "stdout",
     "output_type": "stream",
     "text": [
      "Number of Host Countries:  183\n",
      "Number of Origin Countries:  201\n",
      "Years of Data:  47 from  1975 to 2021\n"
     ]
    }
   ],
   "source": [
    "print(\"Number of Host Countries: \", refugees_df[\"Acceptor\"].nunique())\n",
    "print(\"Number of Origin Countries: \", refugees_df[\"Origin\"].nunique())\n",
    "print(\"Years of Data: \", refugees_df[\"Year\"].nunique(), \"from \", refugees_df[\"Year\"].min(), \"to\", refugees_df[\"Year\"].max())"
   ]
  },
  {
   "cell_type": "markdown",
   "metadata": {},
   "source": [
    "<style>\n",
    "    .md {\n",
    "        background-color: #42EADDFF;\n",
    "        color: #000000FF;\n",
    "    }\n",
    "</style>\n",
    "<div class=\"md\">\n",
    "<ul>\n",
    "<li>Find all the country names longer than 15 characters from both the Acceptor and Donor columns</li>\n",
    "<li>Create a dictionary with shortened versions of these names</li>\n",
    "<li>Replace all these names with their shortened versions</li>\n",
    "<ul>\n",
    "</div>"
   ]
  },
  {
   "cell_type": "code",
   "execution_count": 9,
   "metadata": {},
   "outputs": [
    {
     "data": {
      "text/plain": [
       "['Brunei Darussalam',\n",
       " 'Congo, Republic of',\n",
       " 'China, Macao SAR',\n",
       " 'United Rep. of Tanzania',\n",
       " 'United Arab Emirates',\n",
       " 'Turks and Caicos Islands',\n",
       " 'Equatorial Guinea',\n",
       " 'Marshall Islands',\n",
       " 'Bosnia and Herzegovina',\n",
       " 'Russian Federation',\n",
       " \"Dem. People's Rep. of Korea\",\n",
       " 'Trinidad and Tobago',\n",
       " 'Iran (Islamic Rep. of)',\n",
       " 'Papua New Guinea',\n",
       " 'State of Palestine',\n",
       " 'Venezuela (Bolivarian Republic of)',\n",
       " 'Micronesia (Federated States of)',\n",
       " 'Sint Maarten (Dutch part)',\n",
       " 'United States of America',\n",
       " \"Lao People's Dem. Rep.\",\n",
       " 'Central African Rep.',\n",
       " 'Antigua and Barbuda',\n",
       " 'Serbia and Kosovo: S/RES/1244 (1999)',\n",
       " 'Bolivia (Plurinational State of)',\n",
       " 'Saint Kitts and Nevis',\n",
       " 'Saint Vincent and the Grenadines',\n",
       " 'Sao Tome and Principe',\n",
       " 'China, Hong Kong SAR',\n",
       " 'Dem. Rep. of the Congo',\n",
       " 'Syrian Arab Rep.']"
      ]
     },
     "execution_count": 9,
     "metadata": {},
     "output_type": "execute_result"
    }
   ],
   "source": [
    "acceptor_country_names =  list(refugees_df[\"Acceptor\"].unique())\n",
    "origin_country_names = list(refugees_df[\"Origin\"].unique())\n",
    "country_names = list(set().union(set(acceptor_country_names), set(origin_country_names)))\n",
    "\n",
    "long_country_names = [x for x in country_names if len(x)>15]\n",
    "long_country_names"
   ]
  },
  {
   "cell_type": "code",
   "execution_count": 12,
   "metadata": {},
   "outputs": [],
   "source": [
    "short_names_dict = {'Serbia and Kosovo: S/RES/1244 (1999)' : 'Serbia/Kosovo',\n",
    "               'Venezuela (Bolivarian Republic of)': 'Venezuela',\n",
    "               'Micronesia (Federated States of)': 'Micronesia',\n",
    "               'Sint Maarten (Dutch part)': \"St Maarten (Dutch)\",\n",
    "               'Turks and Caicos Islands': \"Turks Caicos\",\n",
    "               'United States of America': \"USA\",\n",
    "               'United Rep. of Tanzania': 'Tanzania',\n",
    "               'Bosnia and Herzegovina': \"Bosnia/Herzegovina\",\n",
    "                'Dem. Rep. of the Congo': 'Dem Rep. Congo',\n",
    "                'Iran (Islamic Rep. of)': \"Iran\",\n",
    "                \"Lao People's Dem. Rep.\":\"Laos\",\n",
    "                 'Saint Kitts and Nevis': \"St Kitts Nevis\",\n",
    "                 'China, Hong Kong SAR': 'Hong Kong',\n",
    "                 'United Arab Emirates': 'UAE',\n",
    "                 'Trinidad and Tobago': \"Trinidad/Tobago\",\n",
    "                  'Antigua and Barbuda':  'Antigua/Barbuda',\n",
    "                  'Congo, Republic of':'Congo',\n",
    "                  'Russian Federation': \"Russia\",\n",
    "                   'Syrian Arab Rep.': 'Syria',\n",
    "                   'China, Macao SAR': \"Macao (China)\",\n",
    "                 \"Dem. People's Rep. of Korea\": \"North Korea\",\n",
    "                 'Rep. of Korea':\"South Korea\",\n",
    "                 'Sao Tome and Principe': 'Sao Tome/Principe',\n",
    "                 'Brunei Darussalam': \"Brunei\",\n",
    "                 'Marshall Islands': \"Marshall Isl\",\n",
    "                 'Saint Vincent and the Grenadines': \"St Vincent Grenadines\",\n",
    "                 'Equatorial Guinea': 'Equato. Guinea',\n",
    "                 'Bolivia (Plurinational State of)': 'Bolivia',\n",
    "                 'State of Palestine': 'Palestine',\n",
    "\n",
    "               }"
   ]
  },
  {
   "cell_type": "code",
   "execution_count": 13,
   "metadata": {},
   "outputs": [],
   "source": [
    "for key in short_names_dict.keys():\n",
    "    refugees_df = refugees_df.replace(key, short_names_dict[key])"
   ]
  },
  {
   "cell_type": "markdown",
   "metadata": {},
   "source": [
    "<style>\n",
    "    .md {\n",
    "        background-color: #42EADDFF;\n",
    "        color: #000000FF;\n",
    "        margin-top: 20px;\n",
    "        margin-bottom:20px;\n",
    "    }\n",
    "</style>\n",
    "<div class=\"md\">\n",
    "<ul>\n",
    "<li>Make a graph of the total number of refugees per year.</li>\n",
    "<ul>\n",
    "</div>\n"
   ]
  },
  {
   "cell_type": "code",
   "execution_count": 15,
   "metadata": {},
   "outputs": [
    {
     "data": {
      "image/png": "[encoded data removed]",
      "text/plain": [
       "<Figure size 864x576 with 1 Axes>"
      ]
     },
     "metadata": {
      "needs_background": "light"
     },
     "output_type": "display_data"
    }
   ],
   "source": [
    "refugees_by_year_df = refugees_df.groupby(by=\"Year\").sum()\n",
    "refugees_by_year_df = refugees_by_year_df.reset_index()\n",
    "plt.figure(figsize=(12, 8)) \n",
    "plt.scatter(refugees_by_year_df[\"Year\"], refugees_by_year_df[\"Refugees\"]/1000000)\n",
    "plt.ylabel(\"Total Refugees (millions)\")\n",
    "plt.xlabel(\"Years\")\n",
    "plt.show()"
   ]
  },
  {
   "cell_type": "markdown",
   "metadata": {},
   "source": [
    "<style>\n",
    "    .md {\n",
    "        background-color: #42EADDFF;\n",
    "        color: #000000FF;\n",
    "    }\n",
    "</style>\n",
    "<div class=\"md\">\n",
    "<ul>\n",
    "<li>What are the top 5 countries that refugees originated from in any given year? </li>\n",
    "<li>What are the top 5 countries that refugees migrated to in the same year? </li>\n",
    "<li>Show both numerical values and percentages.</li>\n",
    "<ul>\n",
    "</div>"
   ]
  },
  {
   "cell_type": "code",
   "execution_count": 16,
   "metadata": {},
   "outputs": [],
   "source": [
    "def total_refugees_by_year(yr):\n",
    "    \"\"\"\n",
    "    Calculate the total number of refugees for a given year.\n",
    "\n",
    "    Parameters:\n",
    "        yr (int): The year for which to calculate the total number of refugees.\n",
    "\n",
    "    Returns:\n",
    "        int: The total number of refugees in the specified year.\n",
    "\n",
    "    Example:\n",
    "        total_refugees = total_refugees_by_year(2023)\n",
    "        print(total_refugees)  # Output: 123456\n",
    "    \"\"\"\n",
    "    return refugees_df[refugees_df[\"Year\"] == yr][\"Refugees\"].sum()\n",
    "\n",
    "def total_refugees_by_year_and_country(yr, country_type=\"Origin\"):\n",
    "    \"\"\"\n",
    "    Calculate the total number of refugees in a given year for either Origin countries\n",
    "    or Host countries and return the data as a DataFrame with percentage information.\n",
    "\n",
    "    Parameters:\n",
    "        yr (int): The year for which to calculate the total number of refugees.\n",
    "        country_type (str): The type of country to consider, either \"Origin\" or \"Host.\"\n",
    "                            Defaults to \"Origin.\"\n",
    "\n",
    "    Returns:\n",
    "        pandas.DataFrame: A DataFrame containing the total number of refugees and\n",
    "        the percentage of refugees for each country in the specified year, sorted by\n",
    "        the number of refugees in descending order.\n",
    "\n",
    "    Example:\n",
    "        # Calculate total refugees by Origin countries for the year 2023\n",
    "        origin_refugees_2023 = total_refugees_by_year_and_country(2023, \"Origin\")\n",
    "\n",
    "        # Calculate total refugees by Host countries for the year 2023 (default)\n",
    "        host_refugees_2023 = total_refugees_by_year_and_country(2023)\n",
    "\n",
    "        # Display the dataframes\n",
    "        print(origin_refugees_2023)\n",
    "        print(host_refugees_2023)\n",
    "    \"\"\"\n",
    "    total = total_refugees_by_year(yr)\n",
    "    grouped = refugees_df[refugees_df[\"Year\"] == yr].groupby(by=country_type).sum()\n",
    "    df = grouped.reset_index()\n",
    "    df = df.drop(columns=[\"Year\"])\n",
    "    df[\"Percentage\"] = 100*df[\"Refugees\"]/total\n",
    "    return df.sort_values(by=\"Refugees\", ascending=False).round({\"Percentage\":0})\n",
    "\n",
    "\n",
    "\n"
   ]
  },
  {
   "cell_type": "code",
   "execution_count": 17,
   "metadata": {},
   "outputs": [
    {
     "data": {
      "image/png": "[encoded data removed]",
      "text/plain": [
       "<Figure size 576x432 with 2 Axes>"
      ]
     },
     "metadata": {
      "needs_background": "light"
     },
     "output_type": "display_data"
    },
    {
     "data": {
      "image/png": "[encoded data removed]",
      "text/plain": [
       "<Figure size 576x432 with 2 Axes>"
      ]
     },
     "metadata": {
      "needs_background": "light"
     },
     "output_type": "display_data"
    },
    {
     "data": {
      "image/png": "[encoded data removed]",
      "text/plain": [
       "<Figure size 576x432 with 2 Axes>"
      ]
     },
     "metadata": {
      "needs_background": "light"
     },
     "output_type": "display_data"
    }
   ],
   "source": [
    "def make_top_donor_host_plot(yr):\n",
    "\n",
    "    \"\"\"\n",
    "    Create a bar plot to visualize the top 5 countries of origin and top 5 acceptor countries\n",
    "    of refugees for a given year.\n",
    "\n",
    "    Parameters:\n",
    "        yr (int): The year for which the refugee data should be visualized.\n",
    "\n",
    "    Returns:\n",
    "        None: This function displays the plots but does not return any values.\n",
    "\n",
    "    Example:\n",
    "        make_top_donor_host_plot(2023)\n",
    "    \"\"\"\n",
    "    donors = total_refugees_by_year_and_country(yr, \"Origin\").head()\n",
    "    hosts = total_refugees_by_year_and_country(yr, \"Acceptor\").head()\n",
    "    \n",
    "    # Generate random color palettes\n",
    "    donor_palette = sns.color_palette(\"husl\", len(donors))\n",
    "    host_palette = sns.color_palette(\"husl\", len(hosts))\n",
    "\n",
    "    # Create a figure and two subplots\n",
    "    fig, axes = plt.subplots(nrows=2, ncols=1, figsize=(8, 6))\n",
    "\n",
    "    # Plot the donors data on the first subplot with a random color palette\n",
    "    sns.barplot(data=donors, x=\"Percentage\", y=\"Origin\", ax=axes[0], palette=donor_palette)\n",
    "    axes[0].set_title(f\"Top 5 Countries of Origin ({yr})\")\n",
    "    axes[0].set_xlabel(\"% of total refugees\")\n",
    "\n",
    "    # Plot the hosts data on the second subplot with a random color palette\n",
    "    sns.barplot(data=hosts, x=\"Percentage\", y=\"Acceptor\", ax=axes[1], palette=host_palette)\n",
    "    axes[1].set_title(f\"Top 5 Acceptor Countries ({yr})\")\n",
    "    axes[1].set_xlabel(\"% of total refugees\")\n",
    "\n",
    "    # Adjust layout and show the plots\n",
    "    plt.tight_layout()\n",
    "    plt.show()\n",
    "\n",
    "make_top_donor_host_plot(2021)\n",
    "make_top_donor_host_plot(2010)\n",
    "make_top_donor_host_plot(1990)\n"
   ]
  },
  {
   "cell_type": "markdown",
   "metadata": {},
   "source": [
    "<style>\n",
    "    .md {\n",
    "        background-color: #42EADDFF;\n",
    "        color: #000000FF;\n",
    "    }\n",
    "</style>\n",
    "<div class=\"md\">\n",
    "<ul>\n",
    "<li>Create a function to show the refugee acceptance history of any country</li>\n",
    "<li>Show both numerical values and percentages</li>\n",
    "</ul>\n",
    "</div>\n"
   ]
  },
  {
   "cell_type": "code",
   "execution_count": null,
   "metadata": {},
   "outputs": [],
   "source": [
    "def refugee_acceptance_history(country, years=[]):\n",
    "    \"\"\"\n",
    "    Generate a historical overview of refugee acceptance by a specific country over the years.\n",
    "\n",
    "    This function calculates and returns a DataFrame that shows the total number of refugees\n",
    "    accepted by the specified country for each year, along with the percentage of the country's\n",
    "    total refugees for each year.\n",
    "\n",
    "    Parameters:\n",
    "        country (str): The name of the country for which to generate the acceptance history.\n",
    "        years (list of int, optional): A list containing two integers [start_year, end_year]\n",
    "            specifying the range of years to include in the historical overview. If not\n",
    "            provided, data for all available years will be included.\n",
    "\n",
    "    Returns:\n",
    "        pandas.DataFrame: A DataFrame containing the historical data of refugee acceptance\n",
    "        by the specified country, including year, total refugees accepted, and the percentage\n",
    "        of total refugees for each year.\n",
    "\n",
    "    Example:\n",
    "        # Generate refugee acceptance history for the United States from 2010 to 2020\n",
    "        usa_acceptance_history = refugee_acceptance_history(\"United States\", years=[2010, 2020])\n",
    "\n",
    "        # Generate refugee acceptance history for the United Kingdom for all available years\n",
    "        uk_acceptance_history = refugee_acceptance_history(\"United Kingdom\")\n",
    "\n",
    "        # Display the dataframes\n",
    "        print(usa_acceptance_history)\n",
    "        print(uk_acceptance_history)\n",
    "    \"\"\"\n",
    "    df = refugees_df[refugees_df[\"Acceptor\"] == country].groupby(by=\"Year\").sum()\n",
    "    df.reset_index(inplace=True)\n",
    "    \n",
    "    if years:\n",
    "        [start_year, end_year] = years\n",
    "        df = df.query(f'Year >= {start_year} & Year <= {end_year}')\n",
    "\n",
    "    # Create a copy of the DataFrame to avoid the SettingWithCopyWarning\n",
    "    df = df.copy()\n",
    "    df[\"Total Refugees\"] = df[\"Year\"].apply(total_refugees_by_year)\n",
    "    df[\"Percentage\"] = 100 * df[\"Refugees\"] / df[\"Total Refugees\"]\n",
    "    return df\n"
   ]
  },
  {
   "cell_type": "code",
   "execution_count": null,
   "metadata": {},
   "outputs": [],
   "source": [
    "# Create a function to genrate plots for any country \n",
    "\n",
    "def make_refugee_acceptance_plot(country, years=[]):\n",
    "    \"\"\"\n",
    "    Create a pair of scatter plots displaying the acceptance history of refugees by a given 'country' over specified 'years'.\n",
    "\n",
    "    Parameters:\n",
    "    - country (str): The name of the country for which the plot is generated.\n",
    "    - years (list): A list containing a start year and an end year to specify the range of years to include.\n",
    "                    Default is an empty list, which includes all available years.\n",
    "\n",
    "    Returns:\n",
    "    - None\n",
    "\n",
    "    This function generates two scatter plots to visualize the acceptance history of refugees by the specified 'country'\n",
    "    over the specified range of 'years'. The first scatter plot shows the number of refugees accepted each year, while the\n",
    "    second scatter plot shows the percentage of total refugees accepted each year.\n",
    "\n",
    "    If no data is available for the specified 'country' and 'years', it prints a message and returns without generating a plot.\n",
    "    \"\"\"\n",
    "    df = refugee_acceptance_history(country, years=years)\n",
    "    if df.empty:\n",
    "        print(f'No Data available for {country}')\n",
    "        return\n",
    "    timeframe = \" (All Time)\"\n",
    "    if years:\n",
    "        [start_year, end_year] = years\n",
    "        timeframe = f\" ({start_year} - {end_year})\"\n",
    "\n",
    "\n",
    "\n",
    "    # Create a 1x2 grid for subplots (2 row, 1 columns)\n",
    "    fig, (ax1, ax2) = plt.subplots(2, 1, figsize=(10, 12))  # Setting figsize to 10, 12\n",
    "\n",
    "    # Scatter plot for Percentage\n",
    "    ax2.scatter(df[\"Year\"], df[\"Percentage\"], label=\"Percentage\", marker=\"o\", color=\"blue\")\n",
    "    ax2.set_xlabel(\"Year\")\n",
    "    ax2.set_ylabel(\"Percentage\")\n",
    "    ax2.set_title(\"Percentage of Total Refugees Accepted: \"+country+timeframe)\n",
    "    ax2.grid(True)  # Add a grid\n",
    "    ax2.legend()\n",
    "\n",
    "    # Scatter plot for Refugees\n",
    "    ax1.scatter(df[\"Year\"], df[\"Refugees\"], label=\"Refugees\", marker=\"x\", color=\"red\")\n",
    "    ax1.set_xlabel(\"Year\")\n",
    "    ax1.set_ylabel(\"Refugees\")\n",
    "    ax1.set_title(\"Number of Total Refugees Accepted: \"+country+timeframe)\n",
    "    ax1.grid(True)  # Add a grid\n",
    "    ax1.legend()\n",
    "\n",
    "    # Adjust the layout to avoid overlapping labels\n",
    "    plt.tight_layout()\n",
    "\n",
    "    # Show the plot\n",
    "    plt.show()"
   ]
  },
  {
   "cell_type": "code",
   "execution_count": null,
   "metadata": {},
   "outputs": [],
   "source": [
    "make_refugee_acceptance_plot(\"USA\")\n",
    "make_refugee_acceptance_plot(\"USA\", [2008,2021])\n",
    "make_refugee_acceptance_plot('Italy')\n"
   ]
  },
  {
   "cell_type": "markdown",
   "metadata": {},
   "source": [
    "<style>\n",
    "    .md {\n",
    "        background-color: #42EADDFF;\n",
    "        color: #000000FF;\n",
    "    }\n",
    "</style>\n",
    "<div class=\"md\">\n",
    "<ul>\n",
    "<li>Create a function to show the top 5 countries of origin for refugees accepted by any country in a given year</li>\n",
    "<li>Display these on a bar plot</li>\n",
    "</ul>\n",
    "</div>"
   ]
  },
  {
   "cell_type": "code",
   "execution_count": null,
   "metadata": {},
   "outputs": [],
   "source": [
    "import random\n",
    "def make_refugee_origins_plot(country, yr):\n",
    "    \"\"\"\n",
    "    Create a bar plot displaying the top 5 origin countries for refugees accepted by a given 'country' in a specific 'yr'.\n",
    "\n",
    "    Parameters:\n",
    "    - country (str): The name of the country for which the plot is generated.\n",
    "    - yr (int): The year for which the plot is generated.\n",
    "\n",
    "    Returns:\n",
    "    - None\n",
    "\n",
    "    This function retrieves and visualizes the top 5 origin countries of refugees accepted by the specified 'country'\n",
    "    in the given 'yr'. It calculates the percentage of refugees from each origin country based on the total number\n",
    "    of refugees accepted by the 'country' in that 'yr' and displays the information in a bar plot.\n",
    "\n",
    "    If no data is available for the specified 'country' and 'yr', it prints a message and returns without generating a plot.\n",
    "    \"\"\"\n",
    "    df= refugees_df[(refugees_df[\"Acceptor\"]==country) & (refugees_df[\"Year\"] == yr) ]\n",
    "    if df.empty:\n",
    "          print(f'No Data available for {country} in {yr}')\n",
    "          return\n",
    "    total = refugees_df[(refugees_df[\"Acceptor\"]==country) & (refugees_df[\"Year\"] == yr) ][\"Refugees\"].sum()\n",
    "    df = df.sort_values(by=\"Refugees\",ascending=False)\n",
    "    df = df.head()\n",
    "    df[\"Percentage\"] = 100*df[\"Refugees\"]/total\n",
    "    df[\"Percentage\"] = df[\"Percentage\"].round(2)\n",
    "\n",
    "    colors = sns.color_palette(\"hls\", 5)\n",
    "    ax = sns.barplot(data=df, x=\"Percentage\", y=\"Origin\", palette=colors)\n",
    "    ax.set_xlabel(\"% of total accepted\")\n",
    "    plt.title(f\"Top 5 Origin Countries for Refugees in {country} ({yr})\")\n",
    "    plt.text(0.85, 0.05, f\"Total accepted: {total}\", transform=ax.transAxes,\n",
    "         fontsize=10, color='black', va='bottom', ha='right', bbox=dict(facecolor='white', alpha=0.5))\n",
    "    plt.show()\n",
    "\n"
   ]
  },
  {
   "cell_type": "code",
   "execution_count": null,
   "metadata": {},
   "outputs": [],
   "source": [
    "make_refugee_origins_plot(\"USA\", 2021)\n",
    "make_refugee_origins_plot(\"Italy\", 2020)\n",
    "make_refugee_origins_plot(\"Philippines\", 2019)\n",
    "make_refugee_origins_plot(\"Australia\", 2018)"
   ]
  },
  {
   "cell_type": "code",
   "execution_count": null,
   "metadata": {},
   "outputs": [],
   "source": []
  }
 ],
 "metadata": {
  "kernelspec": {
   "display_name": "base",
   "language": "python",
   "name": "python3"
  },
  "language_info": {
   "codemirror_mode": {
    "name": "ipython",
    "version": 3
   },
   "file_extension": ".py",
   "mimetype": "text/x-python",
   "name": "python",
   "nbconvert_exporter": "python",
   "pygments_lexer": "ipython3",
   "version": "3.8.8"
  },
  "orig_nbformat": 4
 },
 "nbformat": 4,
 "nbformat_minor": 2
}
