{
 "cells": [
  {
   "cell_type": "code",
   "execution_count": 1,
   "metadata": {},
   "outputs": [],
   "source": [
    "import pandas as pd\n",
    "import numpy as np\n",
    "import matplotlib.pyplot as plt\n",
    "import seaborn as sns"
   ]
  },
  {
   "cell_type": "code",
   "execution_count": 5,
   "metadata": {},
   "outputs": [
    {
     "data": {
      "text/html": [
       "<div>\n",
       "<style scoped>\n",
       "    .dataframe tbody tr th:only-of-type {\n",
       "        vertical-align: middle;\n",
       "    }\n",
       "\n",
       "    .dataframe tbody tr th {\n",
       "        vertical-align: top;\n",
       "    }\n",
       "\n",
       "    .dataframe thead th {\n",
       "        text-align: right;\n",
       "    }\n",
       "</style>\n",
       "<table border=\"1\" class=\"dataframe\">\n",
       "  <thead>\n",
       "    <tr style=\"text-align: right;\">\n",
       "      <th></th>\n",
       "      <th>Country or territory of asylum or residence</th>\n",
       "      <th>Country or territory of origin</th>\n",
       "      <th>Year</th>\n",
       "      <th>Refugees*</th>\n",
       "      <th>Refugees assisted by UNHCR</th>\n",
       "      <th>Total refugees and people in refugee-like situations**</th>\n",
       "      <th>Total refugees and people in refugee-like situations assisted by UNHCR</th>\n",
       "    </tr>\n",
       "  </thead>\n",
       "  <tbody>\n",
       "    <tr>\n",
       "      <th>0</th>\n",
       "      <td>Afghanistan</td>\n",
       "      <td>Iran (Islamic Rep. of)</td>\n",
       "      <td>2021</td>\n",
       "      <td>38</td>\n",
       "      <td>38</td>\n",
       "      <td>38</td>\n",
       "      <td>38</td>\n",
       "    </tr>\n",
       "    <tr>\n",
       "      <th>1</th>\n",
       "      <td>Afghanistan</td>\n",
       "      <td>Pakistan</td>\n",
       "      <td>2021</td>\n",
       "      <td>72188</td>\n",
       "      <td>123</td>\n",
       "      <td>72188</td>\n",
       "      <td>123</td>\n",
       "    </tr>\n",
       "    <tr>\n",
       "      <th>2</th>\n",
       "      <td>Albania</td>\n",
       "      <td>China</td>\n",
       "      <td>2021</td>\n",
       "      <td>14</td>\n",
       "      <td>0</td>\n",
       "      <td>14</td>\n",
       "      <td>0</td>\n",
       "    </tr>\n",
       "    <tr>\n",
       "      <th>3</th>\n",
       "      <td>Albania</td>\n",
       "      <td>Egypt</td>\n",
       "      <td>2021</td>\n",
       "      <td>5</td>\n",
       "      <td>0</td>\n",
       "      <td>5</td>\n",
       "      <td>0</td>\n",
       "    </tr>\n",
       "    <tr>\n",
       "      <th>4</th>\n",
       "      <td>Albania</td>\n",
       "      <td>Iraq</td>\n",
       "      <td>2021</td>\n",
       "      <td>5</td>\n",
       "      <td>0</td>\n",
       "      <td>5</td>\n",
       "      <td>0</td>\n",
       "    </tr>\n",
       "  </tbody>\n",
       "</table>\n",
       "</div>"
      ],
      "text/plain": [
       "  Country or territory of asylum or residence Country or territory of origin  \\\n",
       "0                                 Afghanistan         Iran (Islamic Rep. of)   \n",
       "1                                 Afghanistan                       Pakistan   \n",
       "2                                     Albania                          China   \n",
       "3                                     Albania                          Egypt   \n",
       "4                                     Albania                           Iraq   \n",
       "\n",
       "   Year  Refugees*  Refugees assisted by UNHCR  \\\n",
       "0  2021         38                          38   \n",
       "1  2021      72188                         123   \n",
       "2  2021         14                           0   \n",
       "3  2021          5                           0   \n",
       "4  2021          5                           0   \n",
       "\n",
       "   Total refugees and people in refugee-like situations**  \\\n",
       "0                                                 38        \n",
       "1                                              72188        \n",
       "2                                                 14        \n",
       "3                                                  5        \n",
       "4                                                  5        \n",
       "\n",
       "   Total refugees and people in refugee-like situations assisted by UNHCR  \n",
       "0                                                 38                       \n",
       "1                                                123                       \n",
       "2                                                  0                       \n",
       "3                                                  0                       \n",
       "4                                                  0                       "
      ]
     },
     "execution_count": 5,
     "metadata": {},
     "output_type": "execute_result"
    }
   ],
   "source": [
    "refugees_df = pd.read_csv('../data/refugees.csv', skipfooter=4, engine='python')\n",
    "refugees_df.head()\n",
    "\n"
   ]
  },
  {
   "cell_type": "code",
   "execution_count": 6,
   "metadata": {},
   "outputs": [],
   "source": [
    "refugees_df = refugees_df.rename(columns={\"Country or territory of asylum or residence\": \"Acceptor\", \"Country or territory of origin\":\"Origin\", \"Refugees*\": \"Refugees\"})"
   ]
  },
  {
   "cell_type": "code",
   "execution_count": 7,
   "metadata": {},
   "outputs": [
    {
     "data": {
      "text/plain": [
       "False"
      ]
     },
     "execution_count": 7,
     "metadata": {},
     "output_type": "execute_result"
    }
   ],
   "source": [
    "refugees_df.isnull().values.any()"
   ]
  },
  {
   "cell_type": "code",
   "execution_count": 8,
   "metadata": {},
   "outputs": [],
   "source": [
    "cols_to_drop = [x for x in list(refugees_df) if x not in [\"Acceptor\", \"Origin\", \"Refugees\", \"Year\"]]\n",
    "refugees_df = refugees_df.drop(columns=cols_to_drop)"
   ]
  },
  {
   "cell_type": "code",
   "execution_count": 9,
   "metadata": {},
   "outputs": [
    {
     "data": {
      "text/html": [
       "<div>\n",
       "<style scoped>\n",
       "    .dataframe tbody tr th:only-of-type {\n",
       "        vertical-align: middle;\n",
       "    }\n",
       "\n",
       "    .dataframe tbody tr th {\n",
       "        vertical-align: top;\n",
       "    }\n",
       "\n",
       "    .dataframe thead th {\n",
       "        text-align: right;\n",
       "    }\n",
       "</style>\n",
       "<table border=\"1\" class=\"dataframe\">\n",
       "  <thead>\n",
       "    <tr style=\"text-align: right;\">\n",
       "      <th></th>\n",
       "      <th>Acceptor</th>\n",
       "      <th>Origin</th>\n",
       "      <th>Year</th>\n",
       "      <th>Refugees</th>\n",
       "    </tr>\n",
       "  </thead>\n",
       "  <tbody>\n",
       "    <tr>\n",
       "      <th>0</th>\n",
       "      <td>Afghanistan</td>\n",
       "      <td>Iran (Islamic Rep. of)</td>\n",
       "      <td>2021</td>\n",
       "      <td>38</td>\n",
       "    </tr>\n",
       "    <tr>\n",
       "      <th>1</th>\n",
       "      <td>Afghanistan</td>\n",
       "      <td>Pakistan</td>\n",
       "      <td>2021</td>\n",
       "      <td>72188</td>\n",
       "    </tr>\n",
       "    <tr>\n",
       "      <th>2</th>\n",
       "      <td>Albania</td>\n",
       "      <td>China</td>\n",
       "      <td>2021</td>\n",
       "      <td>14</td>\n",
       "    </tr>\n",
       "    <tr>\n",
       "      <th>3</th>\n",
       "      <td>Albania</td>\n",
       "      <td>Egypt</td>\n",
       "      <td>2021</td>\n",
       "      <td>5</td>\n",
       "    </tr>\n",
       "    <tr>\n",
       "      <th>4</th>\n",
       "      <td>Albania</td>\n",
       "      <td>Iraq</td>\n",
       "      <td>2021</td>\n",
       "      <td>5</td>\n",
       "    </tr>\n",
       "  </tbody>\n",
       "</table>\n",
       "</div>"
      ],
      "text/plain": [
       "      Acceptor                  Origin  Year  Refugees\n",
       "0  Afghanistan  Iran (Islamic Rep. of)  2021        38\n",
       "1  Afghanistan                Pakistan  2021     72188\n",
       "2      Albania                   China  2021        14\n",
       "3      Albania                   Egypt  2021         5\n",
       "4      Albania                    Iraq  2021         5"
      ]
     },
     "execution_count": 9,
     "metadata": {},
     "output_type": "execute_result"
    }
   ],
   "source": [
    "refugees_df.head()"
   ]
  },
  {
   "cell_type": "markdown",
   "metadata": {},
   "source": [
    "How many countries of origin and acceptors? What is the time frame of the data?"
   ]
  },
  {
   "cell_type": "code",
   "execution_count": 14,
   "metadata": {},
   "outputs": [
    {
     "name": "stdout",
     "output_type": "stream",
     "text": [
      "Number of Host Countries:  183\n",
      "Number of Origin Countries:  201\n",
      "Years of Data:  47 from  1975 to 2021\n"
     ]
    }
   ],
   "source": [
    "print(\"Number of Host Countries: \", refugees_df[\"Acceptor\"].nunique())\n",
    "print(\"Number of Origin Countries: \", refugees_df[\"Origin\"].nunique())\n",
    "print(\"Years of Data: \", refugees_df[\"Year\"].nunique(), \"from \", refugees_df[\"Year\"].min(), \"to\", refugees_df[\"Year\"].max())"
   ]
  },
  {
   "cell_type": "markdown",
   "metadata": {},
   "source": [
    "How many total refugees were there in each year? Show a trend."
   ]
  },
  {
   "cell_type": "code",
   "execution_count": null,
   "metadata": {},
   "outputs": [],
   "source": [
    "def total_refugees_by_year(yr):\n",
    "    return refugees_df[refugees_df[\"Year\"] == yr][\"Refugees\"].sum()\n",
    "\n",
    "years = list(refugees_df[\"Year\"].unique())\n",
    "\n",
    "refugees_by_year_list = []\n",
    "for year in years:\n",
    "    refugees_by_year_list.append([year, total_refugees_by_year(year)])\n",
    "refugees_by_year_df = pd.DataFrame(refugees_by_year_list, columns=[\"Year\", \"Refugees\"])\n",
    "\n"
   ]
  },
  {
   "cell_type": "code",
   "execution_count": 24,
   "metadata": {},
   "outputs": [
    {
     "data": {
      "text/plain": [
       "Text(0.5, 0, 'Years')"
      ]
     },
     "execution_count": 24,
     "metadata": {},
     "output_type": "execute_result"
    },
    {
     "data": {
      "image/png": "[encoded data removed]",
      "text/plain": [
       "<Figure size 432x288 with 1 Axes>"
      ]
     },
     "metadata": {
      "needs_background": "light"
     },
     "output_type": "display_data"
    }
   ],
   "source": [
    "plt.scatter(refugees_by_year_df[\"Year\"], refugees_by_year_df[\"Refugees\"]/1000000)\n",
    "\n",
    "plt.ylabel(\"Total Refugees (millions)\")\n",
    "plt.xlabel(\"Years\")"
   ]
  },
  {
   "cell_type": "code",
   "execution_count": 16,
   "metadata": {},
   "outputs": [],
   "source": [
    "total_accepted_df = refugees_df.groupby(by=\"Acceptor\").sum()\n",
    "total_accepted_df = total_accepted_df.reset_index()\n",
    "total_accepted_df = total_accepted_df.drop(columns=\"Year\")"
   ]
  },
  {
   "cell_type": "markdown",
   "metadata": {},
   "source": [
    "What are the top 5 countries that refugees originated from in any given year? What are the top 5 countries that refugees migrated to in the same year?"
   ]
  },
  {
   "cell_type": "code",
   "execution_count": 55,
   "metadata": {},
   "outputs": [],
   "source": [
    "yr = 2021\n",
    "def total_refugees_by_year_and_country(yr, country_type=\"Origin\"):\n",
    "    total = total_refugees_by_year(yr)\n",
    "    grouped = refugees_df[refugees_df[\"Year\"] == yr].groupby(by=country_type).sum()\n",
    "    df = grouped.reset_index()\n",
    "    df = df.drop(columns=[\"Year\"])\n",
    "    df[\"Percentage\"] = 100*df[\"Refugees\"]/total\n",
    "    return df.sort_values(by=\"Refugees\", ascending=False).round({\"Percentage\":0})\n",
    "\n",
    "\n"
   ]
  },
  {
   "cell_type": "code",
   "execution_count": 76,
   "metadata": {},
   "outputs": [
    {
     "data": {
      "image/png": "[encoded data removed]",
      "text/plain": [
       "<Figure size 576x432 with 2 Axes>"
      ]
     },
     "metadata": {
      "needs_background": "light"
     },
     "output_type": "display_data"
    }
   ],
   "source": [
    "yr = 2021\n",
    "donors = total_refugees_by_year_and_country(yr, \"Origin\").head()\n",
    "hosts = total_refugees_by_year_and_country(yr, \"Acceptor\").head()\n",
    "# Create a figure and two subplots\n",
    "fig, axes = plt.subplots(nrows=2, ncols=1, figsize=(8, 6))\n",
    "\n",
    "# Plot the donors data on the first subplot\n",
    "sns.barplot(data=donors, x=\"Percentage\", y=\"Origin\", ax=axes[0])\n",
    "axes[0].set_title(\"Donors\")\n",
    "\n",
    "# Plot the hosts data on the second subplot\n",
    "sns.barplot(data=hosts, x=\"Percentage\", y=\"Acceptor\", ax=axes[1])\n",
    "axes[1].set_title(\"Hosts\")\n",
    "\n",
    "# Adjust layout and show the plots\n",
    "plt.tight_layout()\n",
    "plt.show()"
   ]
  },
  {
   "cell_type": "markdown",
   "metadata": {},
   "source": [
    "Top five highest accepting countries"
   ]
  },
  {
   "cell_type": "code",
   "execution_count": 17,
   "metadata": {},
   "outputs": [],
   "source": [
    "total_accepted_df = total_accepted_df.rename(columns={\"Refugees\" : \"Total Refugees\"})"
   ]
  },
  {
   "cell_type": "code",
   "execution_count": 18,
   "metadata": {},
   "outputs": [
    {
     "data": {
      "text/html": [
       "<div>\n",
       "<style scoped>\n",
       "    .dataframe tbody tr th:only-of-type {\n",
       "        vertical-align: middle;\n",
       "    }\n",
       "\n",
       "    .dataframe tbody tr th {\n",
       "        vertical-align: top;\n",
       "    }\n",
       "\n",
       "    .dataframe thead th {\n",
       "        text-align: right;\n",
       "    }\n",
       "</style>\n",
       "<table border=\"1\" class=\"dataframe\">\n",
       "  <thead>\n",
       "    <tr style=\"text-align: right;\">\n",
       "      <th></th>\n",
       "      <th>Acceptor</th>\n",
       "      <th>Total Refugees</th>\n",
       "    </tr>\n",
       "  </thead>\n",
       "  <tbody>\n",
       "    <tr>\n",
       "      <th>123</th>\n",
       "      <td>Pakistan</td>\n",
       "      <td>75077619</td>\n",
       "    </tr>\n",
       "    <tr>\n",
       "      <th>77</th>\n",
       "      <td>Iran (Islamic Rep. of)</td>\n",
       "      <td>71483585</td>\n",
       "    </tr>\n",
       "    <tr>\n",
       "      <th>63</th>\n",
       "      <td>Germany</td>\n",
       "      <td>31540659</td>\n",
       "    </tr>\n",
       "    <tr>\n",
       "      <th>165</th>\n",
       "      <td>Turkey</td>\n",
       "      <td>26264664</td>\n",
       "    </tr>\n",
       "    <tr>\n",
       "      <th>155</th>\n",
       "      <td>Sudan</td>\n",
       "      <td>23867350</td>\n",
       "    </tr>\n",
       "    <tr>\n",
       "      <th>...</th>\n",
       "      <td>...</td>\n",
       "      <td>...</td>\n",
       "    </tr>\n",
       "    <tr>\n",
       "      <th>106</th>\n",
       "      <td>Micronesia (Federated States of)</td>\n",
       "      <td>10</td>\n",
       "    </tr>\n",
       "    <tr>\n",
       "      <th>139</th>\n",
       "      <td>Saint Lucia</td>\n",
       "      <td>10</td>\n",
       "    </tr>\n",
       "    <tr>\n",
       "      <th>138</th>\n",
       "      <td>Saint Kitts and Nevis</td>\n",
       "      <td>10</td>\n",
       "    </tr>\n",
       "    <tr>\n",
       "      <th>24</th>\n",
       "      <td>Cabo Verde</td>\n",
       "      <td>5</td>\n",
       "    </tr>\n",
       "    <tr>\n",
       "      <th>66</th>\n",
       "      <td>Grenada</td>\n",
       "      <td>5</td>\n",
       "    </tr>\n",
       "  </tbody>\n",
       "</table>\n",
       "<p>183 rows × 2 columns</p>\n",
       "</div>"
      ],
      "text/plain": [
       "                             Acceptor  Total Refugees\n",
       "123                          Pakistan        75077619\n",
       "77             Iran (Islamic Rep. of)        71483585\n",
       "63                            Germany        31540659\n",
       "165                            Turkey        26264664\n",
       "155                             Sudan        23867350\n",
       "..                                ...             ...\n",
       "106  Micronesia (Federated States of)              10\n",
       "139                       Saint Lucia              10\n",
       "138             Saint Kitts and Nevis              10\n",
       "24                         Cabo Verde               5\n",
       "66                            Grenada               5\n",
       "\n",
       "[183 rows x 2 columns]"
      ]
     },
     "execution_count": 18,
     "metadata": {},
     "output_type": "execute_result"
    }
   ],
   "source": [
    "total_accepted_df.sort_values(by=\"Total Refugees\", ascending=False)"
   ]
  },
  {
   "cell_type": "markdown",
   "metadata": {},
   "source": [
    "Top five highest departing countries"
   ]
  },
  {
   "cell_type": "code",
   "execution_count": 19,
   "metadata": {},
   "outputs": [
    {
     "data": {
      "text/html": [
       "<div>\n",
       "<style scoped>\n",
       "    .dataframe tbody tr th:only-of-type {\n",
       "        vertical-align: middle;\n",
       "    }\n",
       "\n",
       "    .dataframe tbody tr th {\n",
       "        vertical-align: top;\n",
       "    }\n",
       "\n",
       "    .dataframe thead th {\n",
       "        text-align: right;\n",
       "    }\n",
       "</style>\n",
       "<table border=\"1\" class=\"dataframe\">\n",
       "  <thead>\n",
       "    <tr style=\"text-align: right;\">\n",
       "      <th></th>\n",
       "      <th>Origin</th>\n",
       "      <th>Refugees</th>\n",
       "    </tr>\n",
       "  </thead>\n",
       "  <tbody>\n",
       "    <tr>\n",
       "      <th>0</th>\n",
       "      <td>Afghanistan</td>\n",
       "      <td>139059404</td>\n",
       "    </tr>\n",
       "    <tr>\n",
       "      <th>192</th>\n",
       "      <td>Unknown/other</td>\n",
       "      <td>54830534</td>\n",
       "    </tr>\n",
       "    <tr>\n",
       "      <th>174</th>\n",
       "      <td>Syrian Arab Rep.</td>\n",
       "      <td>50630919</td>\n",
       "    </tr>\n",
       "    <tr>\n",
       "      <th>85</th>\n",
       "      <td>Iraq</td>\n",
       "      <td>28190407</td>\n",
       "    </tr>\n",
       "    <tr>\n",
       "      <th>62</th>\n",
       "      <td>Ethiopia</td>\n",
       "      <td>23856081</td>\n",
       "    </tr>\n",
       "    <tr>\n",
       "      <th>...</th>\n",
       "      <td>...</td>\n",
       "      <td>...</td>\n",
       "    </tr>\n",
       "    <tr>\n",
       "      <th>141</th>\n",
       "      <td>Puerto Rico</td>\n",
       "      <td>36</td>\n",
       "    </tr>\n",
       "    <tr>\n",
       "      <th>122</th>\n",
       "      <td>Nauru</td>\n",
       "      <td>25</td>\n",
       "    </tr>\n",
       "    <tr>\n",
       "      <th>152</th>\n",
       "      <td>San Marino</td>\n",
       "      <td>20</td>\n",
       "    </tr>\n",
       "    <tr>\n",
       "      <th>104</th>\n",
       "      <td>Luxembourg</td>\n",
       "      <td>10</td>\n",
       "    </tr>\n",
       "    <tr>\n",
       "      <th>151</th>\n",
       "      <td>Samoa</td>\n",
       "      <td>5</td>\n",
       "    </tr>\n",
       "  </tbody>\n",
       "</table>\n",
       "<p>201 rows × 2 columns</p>\n",
       "</div>"
      ],
      "text/plain": [
       "               Origin   Refugees\n",
       "0         Afghanistan  139059404\n",
       "192     Unknown/other   54830534\n",
       "174  Syrian Arab Rep.   50630919\n",
       "85               Iraq   28190407\n",
       "62           Ethiopia   23856081\n",
       "..                ...        ...\n",
       "141       Puerto Rico         36\n",
       "122             Nauru         25\n",
       "152        San Marino         20\n",
       "104        Luxembourg         10\n",
       "151             Samoa          5\n",
       "\n",
       "[201 rows x 2 columns]"
      ]
     },
     "execution_count": 19,
     "metadata": {},
     "output_type": "execute_result"
    }
   ],
   "source": [
    "total_departing_df = refugees_df.groupby(by=\"Origin\").sum()\n",
    "total_departing_df = total_departing_df.reset_index()\n",
    "total_departing_df = total_departing_df.drop(columns=\"Year\")\n",
    "total_departing_df.sort_values(by=\"Refugees\", ascending=False)"
   ]
  },
  {
   "cell_type": "code",
   "execution_count": null,
   "metadata": {},
   "outputs": [
    {
     "data": {
      "text/html": [
       "<div>\n",
       "<style scoped>\n",
       "    .dataframe tbody tr th:only-of-type {\n",
       "        vertical-align: middle;\n",
       "    }\n",
       "\n",
       "    .dataframe tbody tr th {\n",
       "        vertical-align: top;\n",
       "    }\n",
       "\n",
       "    .dataframe thead th {\n",
       "        text-align: right;\n",
       "    }\n",
       "</style>\n",
       "<table border=\"1\" class=\"dataframe\">\n",
       "  <thead>\n",
       "    <tr style=\"text-align: right;\">\n",
       "      <th></th>\n",
       "      <th>Origin</th>\n",
       "      <th>Refugees</th>\n",
       "    </tr>\n",
       "  </thead>\n",
       "  <tbody>\n",
       "    <tr>\n",
       "      <th>0</th>\n",
       "      <td>Afghanistan</td>\n",
       "      <td>142234967</td>\n",
       "    </tr>\n",
       "    <tr>\n",
       "      <th>1</th>\n",
       "      <td>Albania</td>\n",
       "      <td>338564</td>\n",
       "    </tr>\n",
       "    <tr>\n",
       "      <th>2</th>\n",
       "      <td>Algeria</td>\n",
       "      <td>195008</td>\n",
       "    </tr>\n",
       "    <tr>\n",
       "      <th>3</th>\n",
       "      <td>Andorra</td>\n",
       "      <td>87</td>\n",
       "    </tr>\n",
       "    <tr>\n",
       "      <th>4</th>\n",
       "      <td>Angola</td>\n",
       "      <td>13054928</td>\n",
       "    </tr>\n",
       "  </tbody>\n",
       "</table>\n",
       "</div>"
      ],
      "text/plain": [
       "        Origin   Refugees\n",
       "0  Afghanistan  142234967\n",
       "1      Albania     338564\n",
       "2      Algeria     195008\n",
       "3      Andorra         87\n",
       "4       Angola   13054928"
      ]
     },
     "execution_count": 15,
     "metadata": {},
     "output_type": "execute_result"
    }
   ],
   "source": [
    "total_departing_df.head()"
   ]
  },
  {
   "cell_type": "code",
   "execution_count": null,
   "metadata": {},
   "outputs": [
    {
     "data": {
      "text/html": [
       "<div>\n",
       "<style scoped>\n",
       "    .dataframe tbody tr th:only-of-type {\n",
       "        vertical-align: middle;\n",
       "    }\n",
       "\n",
       "    .dataframe tbody tr th {\n",
       "        vertical-align: top;\n",
       "    }\n",
       "\n",
       "    .dataframe thead th {\n",
       "        text-align: right;\n",
       "    }\n",
       "</style>\n",
       "<table border=\"1\" class=\"dataframe\">\n",
       "  <thead>\n",
       "    <tr style=\"text-align: right;\">\n",
       "      <th></th>\n",
       "      <th>Origin</th>\n",
       "      <th>Refugees</th>\n",
       "    </tr>\n",
       "  </thead>\n",
       "  <tbody>\n",
       "    <tr>\n",
       "      <th>196</th>\n",
       "      <td>Viet Nam</td>\n",
       "      <td>16457922</td>\n",
       "    </tr>\n",
       "    <tr>\n",
       "      <th>197</th>\n",
       "      <td>Western Sahara</td>\n",
       "      <td>6157643</td>\n",
       "    </tr>\n",
       "    <tr>\n",
       "      <th>198</th>\n",
       "      <td>Yemen</td>\n",
       "      <td>598120</td>\n",
       "    </tr>\n",
       "    <tr>\n",
       "      <th>199</th>\n",
       "      <td>Zambia</td>\n",
       "      <td>15671</td>\n",
       "    </tr>\n",
       "    <tr>\n",
       "      <th>200</th>\n",
       "      <td>Zimbabwe</td>\n",
       "      <td>814630</td>\n",
       "    </tr>\n",
       "  </tbody>\n",
       "</table>\n",
       "</div>"
      ],
      "text/plain": [
       "             Origin  Refugees\n",
       "196        Viet Nam  16457922\n",
       "197  Western Sahara   6157643\n",
       "198           Yemen    598120\n",
       "199          Zambia     15671\n",
       "200        Zimbabwe    814630"
      ]
     },
     "execution_count": 16,
     "metadata": {},
     "output_type": "execute_result"
    }
   ],
   "source": [
    "total_departing_df.tail()"
   ]
  },
  {
   "cell_type": "code",
   "execution_count": 20,
   "metadata": {},
   "outputs": [
    {
     "data": {
      "text/html": [
       "<div>\n",
       "<style scoped>\n",
       "    .dataframe tbody tr th:only-of-type {\n",
       "        vertical-align: middle;\n",
       "    }\n",
       "\n",
       "    .dataframe tbody tr th {\n",
       "        vertical-align: top;\n",
       "    }\n",
       "\n",
       "    .dataframe thead th {\n",
       "        text-align: right;\n",
       "    }\n",
       "</style>\n",
       "<table border=\"1\" class=\"dataframe\">\n",
       "  <thead>\n",
       "    <tr style=\"text-align: right;\">\n",
       "      <th></th>\n",
       "      <th>Origin</th>\n",
       "      <th>Refugees</th>\n",
       "    </tr>\n",
       "  </thead>\n",
       "  <tbody>\n",
       "    <tr>\n",
       "      <th>191</th>\n",
       "      <td>United States of America</td>\n",
       "      <td>39327</td>\n",
       "    </tr>\n",
       "  </tbody>\n",
       "</table>\n",
       "</div>"
      ],
      "text/plain": [
       "                       Origin  Refugees\n",
       "191  United States of America     39327"
      ]
     },
     "execution_count": 20,
     "metadata": {},
     "output_type": "execute_result"
    }
   ],
   "source": [
    "total_departing_df[total_departing_df[\"Origin\"]==\"United States of America\"]"
   ]
  },
  {
   "cell_type": "markdown",
   "metadata": {},
   "source": [
    "**Data for 2022**\n",
    "\n",
    "*Top 5 most accepting countries*"
   ]
  },
  {
   "cell_type": "code",
   "execution_count": 21,
   "metadata": {},
   "outputs": [
    {
     "data": {
      "text/html": [
       "<div>\n",
       "<style scoped>\n",
       "    .dataframe tbody tr th:only-of-type {\n",
       "        vertical-align: middle;\n",
       "    }\n",
       "\n",
       "    .dataframe tbody tr th {\n",
       "        vertical-align: top;\n",
       "    }\n",
       "\n",
       "    .dataframe thead th {\n",
       "        text-align: right;\n",
       "    }\n",
       "</style>\n",
       "<table border=\"1\" class=\"dataframe\">\n",
       "  <thead>\n",
       "    <tr style=\"text-align: right;\">\n",
       "      <th></th>\n",
       "      <th>Acceptor</th>\n",
       "      <th>Refugees</th>\n",
       "    </tr>\n",
       "  </thead>\n",
       "  <tbody>\n",
       "    <tr>\n",
       "      <th>148</th>\n",
       "      <td>Turkey</td>\n",
       "      <td>3696831</td>\n",
       "    </tr>\n",
       "    <tr>\n",
       "      <th>151</th>\n",
       "      <td>Uganda</td>\n",
       "      <td>1475311</td>\n",
       "    </tr>\n",
       "    <tr>\n",
       "      <th>113</th>\n",
       "      <td>Pakistan</td>\n",
       "      <td>1438523</td>\n",
       "    </tr>\n",
       "    <tr>\n",
       "      <th>58</th>\n",
       "      <td>Germany</td>\n",
       "      <td>1235160</td>\n",
       "    </tr>\n",
       "    <tr>\n",
       "      <th>138</th>\n",
       "      <td>Sudan</td>\n",
       "      <td>1068339</td>\n",
       "    </tr>\n",
       "    <tr>\n",
       "      <th>...</th>\n",
       "      <td>...</td>\n",
       "      <td>...</td>\n",
       "    </tr>\n",
       "    <tr>\n",
       "      <th>139</th>\n",
       "      <td>Suriname</td>\n",
       "      <td>19</td>\n",
       "    </tr>\n",
       "    <tr>\n",
       "      <th>52</th>\n",
       "      <td>Fiji</td>\n",
       "      <td>13</td>\n",
       "    </tr>\n",
       "    <tr>\n",
       "      <th>158</th>\n",
       "      <td>Uzbekistan</td>\n",
       "      <td>13</td>\n",
       "    </tr>\n",
       "    <tr>\n",
       "      <th>150</th>\n",
       "      <td>Turks and Caicos Islands</td>\n",
       "      <td>8</td>\n",
       "    </tr>\n",
       "    <tr>\n",
       "      <th>31</th>\n",
       "      <td>China, Hong Kong SAR</td>\n",
       "      <td>0</td>\n",
       "    </tr>\n",
       "  </tbody>\n",
       "</table>\n",
       "<p>163 rows × 2 columns</p>\n",
       "</div>"
      ],
      "text/plain": [
       "                     Acceptor  Refugees\n",
       "148                    Turkey   3696831\n",
       "151                    Uganda   1475311\n",
       "113                  Pakistan   1438523\n",
       "58                    Germany   1235160\n",
       "138                     Sudan   1068339\n",
       "..                        ...       ...\n",
       "139                  Suriname        19\n",
       "52                       Fiji        13\n",
       "158                Uzbekistan        13\n",
       "150  Turks and Caicos Islands         8\n",
       "31       China, Hong Kong SAR         0\n",
       "\n",
       "[163 rows x 2 columns]"
      ]
     },
     "execution_count": 21,
     "metadata": {},
     "output_type": "execute_result"
    }
   ],
   "source": [
    "refugees_2021_df = refugees_df[refugees_df[\"Year\"]==2021]\n",
    "total_accepted_2021_df = refugees_2021_df.groupby(by=\"Acceptor\").sum()\n",
    "total_accepted_2021_df = total_accepted_2021_df.reset_index()\n",
    "total_accepted_2021_df = total_accepted_2021_df.drop(columns=\"Year\")\n",
    "total_accepted_2021_df.sort_values(by=\"Refugees\", ascending=False)"
   ]
  },
  {
   "cell_type": "markdown",
   "metadata": {},
   "source": [
    "**Making a function to produce a df that gives the origin/host and number of refugees by year**"
   ]
  },
  {
   "cell_type": "code",
   "execution_count": 22,
   "metadata": {},
   "outputs": [],
   "source": [
    "def make_aggregated(country_type, yr):\n",
    "    refugees_yr_df = refugees_df[refugees_df[\"Year\"]==yr]\n",
    "    total_accepted_df = refugees_yr_df.groupby(by=country_type).sum()\n",
    "    total_accepted_df = total_accepted_df.reset_index()\n",
    "    total_accepted_df = total_accepted_df.drop(columns=\"Year\")\n",
    "    return total_accepted_df.sort_values(by=\"Refugees\", ascending=False)"
   ]
  },
  {
   "cell_type": "code",
   "execution_count": 23,
   "metadata": {},
   "outputs": [],
   "source": [
    "df = make_aggregated(\"Origin\", 2021)"
   ]
  },
  {
   "cell_type": "code",
   "execution_count": 24,
   "metadata": {},
   "outputs": [
    {
     "data": {
      "text/html": [
       "<div>\n",
       "<style scoped>\n",
       "    .dataframe tbody tr th:only-of-type {\n",
       "        vertical-align: middle;\n",
       "    }\n",
       "\n",
       "    .dataframe tbody tr th {\n",
       "        vertical-align: top;\n",
       "    }\n",
       "\n",
       "    .dataframe thead th {\n",
       "        text-align: right;\n",
       "    }\n",
       "</style>\n",
       "<table border=\"1\" class=\"dataframe\">\n",
       "  <thead>\n",
       "    <tr style=\"text-align: right;\">\n",
       "      <th></th>\n",
       "      <th>Origin</th>\n",
       "      <th>Refugees</th>\n",
       "    </tr>\n",
       "  </thead>\n",
       "  <tbody>\n",
       "    <tr>\n",
       "      <th>162</th>\n",
       "      <td>Syrian Arab Rep.</td>\n",
       "      <td>6756751</td>\n",
       "    </tr>\n",
       "    <tr>\n",
       "      <th>0</th>\n",
       "      <td>Afghanistan</td>\n",
       "      <td>2610057</td>\n",
       "    </tr>\n",
       "    <tr>\n",
       "      <th>153</th>\n",
       "      <td>South Sudan</td>\n",
       "      <td>2277919</td>\n",
       "    </tr>\n",
       "    <tr>\n",
       "      <th>111</th>\n",
       "      <td>Myanmar</td>\n",
       "      <td>1080796</td>\n",
       "    </tr>\n",
       "    <tr>\n",
       "      <th>46</th>\n",
       "      <td>Dem. Rep. of the Congo</td>\n",
       "      <td>864501</td>\n",
       "    </tr>\n",
       "  </tbody>\n",
       "</table>\n",
       "</div>"
      ],
      "text/plain": [
       "                     Origin  Refugees\n",
       "162        Syrian Arab Rep.   6756751\n",
       "0               Afghanistan   2610057\n",
       "153             South Sudan   2277919\n",
       "111                 Myanmar   1080796\n",
       "46   Dem. Rep. of the Congo    864501"
      ]
     },
     "execution_count": 24,
     "metadata": {},
     "output_type": "execute_result"
    }
   ],
   "source": [
    "df.head()"
   ]
  },
  {
   "cell_type": "code",
   "execution_count": 25,
   "metadata": {},
   "outputs": [],
   "source": [
    "df = make_aggregated(\"Acceptor\", 2021)"
   ]
  },
  {
   "cell_type": "code",
   "execution_count": 26,
   "metadata": {},
   "outputs": [
    {
     "data": {
      "text/html": [
       "<div>\n",
       "<style scoped>\n",
       "    .dataframe tbody tr th:only-of-type {\n",
       "        vertical-align: middle;\n",
       "    }\n",
       "\n",
       "    .dataframe tbody tr th {\n",
       "        vertical-align: top;\n",
       "    }\n",
       "\n",
       "    .dataframe thead th {\n",
       "        text-align: right;\n",
       "    }\n",
       "</style>\n",
       "<table border=\"1\" class=\"dataframe\">\n",
       "  <thead>\n",
       "    <tr style=\"text-align: right;\">\n",
       "      <th></th>\n",
       "      <th>Acceptor</th>\n",
       "      <th>Refugees</th>\n",
       "    </tr>\n",
       "  </thead>\n",
       "  <tbody>\n",
       "    <tr>\n",
       "      <th>148</th>\n",
       "      <td>Turkey</td>\n",
       "      <td>3696831</td>\n",
       "    </tr>\n",
       "    <tr>\n",
       "      <th>151</th>\n",
       "      <td>Uganda</td>\n",
       "      <td>1475311</td>\n",
       "    </tr>\n",
       "    <tr>\n",
       "      <th>113</th>\n",
       "      <td>Pakistan</td>\n",
       "      <td>1438523</td>\n",
       "    </tr>\n",
       "    <tr>\n",
       "      <th>58</th>\n",
       "      <td>Germany</td>\n",
       "      <td>1235160</td>\n",
       "    </tr>\n",
       "    <tr>\n",
       "      <th>138</th>\n",
       "      <td>Sudan</td>\n",
       "      <td>1068339</td>\n",
       "    </tr>\n",
       "  </tbody>\n",
       "</table>\n",
       "</div>"
      ],
      "text/plain": [
       "     Acceptor  Refugees\n",
       "148    Turkey   3696831\n",
       "151    Uganda   1475311\n",
       "113  Pakistan   1438523\n",
       "58    Germany   1235160\n",
       "138     Sudan   1068339"
      ]
     },
     "execution_count": 26,
     "metadata": {},
     "output_type": "execute_result"
    }
   ],
   "source": [
    "df.head()"
   ]
  },
  {
   "cell_type": "markdown",
   "metadata": {},
   "source": [
    "**Show the history of accepting refugees**"
   ]
  },
  {
   "cell_type": "code",
   "execution_count": null,
   "metadata": {},
   "outputs": [],
   "source": [
    "country_list = refugees_df[\"Acceptor\"].unique()"
   ]
  },
  {
   "cell_type": "markdown",
   "metadata": {},
   "source": []
  },
  {
   "cell_type": "code",
   "execution_count": null,
   "metadata": {},
   "outputs": [
    {
     "data": {
      "text/plain": [
       "array(['Afghanistan', 'Albania', 'Algeria', 'Angola', 'Argentina',\n",
       "       'Armenia', 'Australia', 'Austria', 'Azerbaijan', 'Bahamas',\n",
       "       'Bahrain', 'Bangladesh', 'Belarus', 'Belgium', 'Belize', 'Benin',\n",
       "       'Bolivia (Plurinational State of)', 'Bosnia and Herzegovina',\n",
       "       'Botswana', 'Brazil', 'Bulgaria', 'Burkina Faso', 'Burundi',\n",
       "       'Cambodia', 'Cameroon', 'Canada', 'Cayman Islands',\n",
       "       'Central African Rep.', 'Chad', 'Chile', 'China',\n",
       "       'China, Hong Kong SAR', 'Colombia', 'Congo, Republic of',\n",
       "       'Costa Rica', \"Côte d'Ivoire\", 'Croatia', 'Cuba', 'Curaçao',\n",
       "       'Cyprus', 'Czechia', 'Dem. Rep. of the Congo', 'Denmark',\n",
       "       'Djibouti', 'Dominican Rep.', 'Ecuador', 'Egypt', 'El Salvador',\n",
       "       'Eritrea', 'Estonia', 'Eswatini', 'Ethiopia', 'Fiji', 'Finland',\n",
       "       'France', 'Gabon', 'Gambia', 'Georgia', 'Germany', 'Ghana',\n",
       "       'Greece', 'Guatemala', 'Guinea', 'Guinea-Bissau', 'Guyana',\n",
       "       'Honduras', 'Hungary', 'Iceland', 'India', 'Indonesia',\n",
       "       'Iran (Islamic Rep. of)', 'Iraq', 'Ireland', 'Israel', 'Italy',\n",
       "       'Jamaica', 'Japan', 'Jordan', 'Kazakhstan', 'Kenya', 'Kuwait',\n",
       "       'Kyrgyzstan', 'Latvia', 'Lebanon', 'Lesotho', 'Liberia', 'Libya',\n",
       "       'Liechtenstein', 'Lithuania', 'Luxembourg', 'Madagascar', 'Malawi',\n",
       "       'Malaysia', 'Mali', 'Malta', 'Mauritania', 'Mauritius', 'Mexico',\n",
       "       'Monaco', 'Montenegro', 'Morocco', 'Mozambique', 'Namibia',\n",
       "       'Nauru', 'Nepal', 'Netherlands', 'New Zealand', 'Nicaragua',\n",
       "       'Niger', 'Nigeria', 'North Macedonia', 'Norway', 'Oman',\n",
       "       'Pakistan', 'Panama', 'Papua New Guinea', 'Paraguay', 'Peru',\n",
       "       'Philippines', 'Poland', 'Portugal', 'Qatar', 'Rep. of Korea',\n",
       "       'Rep. of Moldova', 'Romania', 'Russian Federation', 'Rwanda',\n",
       "       'Saudi Arabia', 'Senegal', 'Serbia and Kosovo: S/RES/1244 (1999)',\n",
       "       'Sierra Leone', 'Slovakia', 'Slovenia', 'Somalia', 'South Africa',\n",
       "       'South Sudan', 'Spain', 'Sri Lanka', 'Sudan', 'Suriname', 'Sweden',\n",
       "       'Switzerland', 'Syrian Arab Rep.', 'Tajikistan', 'Thailand',\n",
       "       'Togo', 'Trinidad and Tobago', 'Tunisia', 'Turkey', 'Turkmenistan',\n",
       "       'Turks and Caicos Islands', 'Uganda', 'Ukraine',\n",
       "       'United Arab Emirates', 'United Kingdom',\n",
       "       'United Rep. of Tanzania', 'United States of America', 'Uruguay',\n",
       "       'Uzbekistan', 'Venezuela (Bolivarian Republic of)', 'Yemen',\n",
       "       'Zambia', 'Zimbabwe', 'Saint Kitts and Nevis',\n",
       "       'Sint Maarten (Dutch part)', 'Haiti', 'Mongolia', 'Samoa',\n",
       "       'Antigua and Barbuda', 'Micronesia (Federated States of)',\n",
       "       'Solomon Islands', 'Singapore', 'Saint Lucia', 'Grenada',\n",
       "       'Viet Nam', 'Vanuatu', 'China, Macao SAR', 'Palau', 'Comoros',\n",
       "       'French Guiana', 'Unknown/other', 'Cabo Verde',\n",
       "       \"Lao People's Dem. Rep.\"], dtype=object)"
      ]
     },
     "execution_count": 61,
     "metadata": {},
     "output_type": "execute_result"
    }
   ],
   "source": [
    "country_list"
   ]
  },
  {
   "cell_type": "code",
   "execution_count": 27,
   "metadata": {},
   "outputs": [],
   "source": [
    "refugees_usa_df = refugees_df[refugees_df[\"Acceptor\"]==\"United States of America\"].groupby(by=\"Year\").sum()\n",
    "refugees_usa_df.reset_index(inplace=True)"
   ]
  },
  {
   "cell_type": "code",
   "execution_count": 28,
   "metadata": {},
   "outputs": [
    {
     "data": {
      "text/plain": [
       "<matplotlib.collections.PathCollection at 0x20b02945880>"
      ]
     },
     "execution_count": 28,
     "metadata": {},
     "output_type": "execute_result"
    },
    {
     "data": {
      "image/png": "[encoded data removed]",
      "text/plain": [
       "<Figure size 432x288 with 1 Axes>"
      ]
     },
     "metadata": {
      "needs_background": "light"
     },
     "output_type": "display_data"
    }
   ],
   "source": [
    "plt.scatter(refugees_usa_df[\"Year\"], refugees_usa_df[\"Refugees\"])"
   ]
  },
  {
   "cell_type": "code",
   "execution_count": null,
   "metadata": {},
   "outputs": [
    {
     "data": {
      "text/plain": [
       "<matplotlib.collections.PathCollection at 0x2d89565aa60>"
      ]
     },
     "execution_count": 71,
     "metadata": {},
     "output_type": "execute_result"
    },
    {
     "data": {
      "image/png": "[encoded data removed]",
      "text/plain": [
       "<Figure size 432x288 with 1 Axes>"
      ]
     },
     "metadata": {
      "needs_background": "light"
     },
     "output_type": "display_data"
    }
   ],
   "source": [
    "refugees_usa_recent_df = refugees_usa_df[refugees_usa_df[\"Year\"]>=2000]\n",
    "plt.scatter(refugees_usa_recent_df[\"Year\"], refugees_usa_recent_df[\"Refugees\"])"
   ]
  },
  {
   "cell_type": "code",
   "execution_count": 43,
   "metadata": {},
   "outputs": [
    {
     "data": {
      "text/plain": [
       "337870"
      ]
     },
     "execution_count": 43,
     "metadata": {},
     "output_type": "execute_result"
    }
   ],
   "source": [
    "refugees_usa_df = refugees_df[(refugees_df[\"Acceptor\"]==\"United States of America\") & (refugees_df[\"Year\"] == 2021)]\n",
    "refugees_usa_df.sort_values(by=\"Refugees\", ascending=False)\n",
    "refugees_usa_df[\"Refugees\"].sum()"
   ]
  },
  {
   "cell_type": "code",
   "execution_count": 41,
   "metadata": {},
   "outputs": [
    {
     "data": {
      "text/plain": [
       "379330"
      ]
     },
     "execution_count": 41,
     "metadata": {},
     "output_type": "execute_result"
    }
   ],
   "source": [
    "refugees_usa_df = refugees_df[(refugees_df[\"Acceptor\"]==\"United States of America\") & (refugees_df[\"Year\"] == 2005)]\n",
    "refugees_usa_df.sort_values(by=\"Refugees\", ascending=False)\n",
    "refugees_usa_df[\"Refugees\"].sum()"
   ]
  },
  {
   "cell_type": "code",
   "execution_count": 40,
   "metadata": {},
   "outputs": [
    {
     "data": {
      "text/plain": [
       "109931"
      ]
     },
     "execution_count": 40,
     "metadata": {},
     "output_type": "execute_result"
    }
   ],
   "source": [
    "refugees_usa_df = refugees_df[(refugees_df[\"Origin\"]==\"Bosnia and Herzegovina\") & (refugees_df[\"Year\"] == 2005)]\n",
    "refugees_usa_df.sort_values(by=\"Refugees\", ascending=False)\n",
    "refugees_usa_df[\"Refugees\"].sum()"
   ]
  },
  {
   "cell_type": "code",
   "execution_count": 38,
   "metadata": {},
   "outputs": [
    {
     "data": {
      "text/html": [
       "<div>\n",
       "<style scoped>\n",
       "    .dataframe tbody tr th:only-of-type {\n",
       "        vertical-align: middle;\n",
       "    }\n",
       "\n",
       "    .dataframe tbody tr th {\n",
       "        vertical-align: top;\n",
       "    }\n",
       "\n",
       "    .dataframe thead th {\n",
       "        text-align: right;\n",
       "    }\n",
       "</style>\n",
       "<table border=\"1\" class=\"dataframe\">\n",
       "  <thead>\n",
       "    <tr style=\"text-align: right;\">\n",
       "      <th></th>\n",
       "      <th>Acceptor</th>\n",
       "      <th>Origin</th>\n",
       "      <th>Year</th>\n",
       "      <th>Refugees</th>\n",
       "    </tr>\n",
       "  </thead>\n",
       "  <tbody>\n",
       "    <tr>\n",
       "      <th>87244</th>\n",
       "      <td>Germany</td>\n",
       "      <td>Bosnia and Herzegovina</td>\n",
       "      <td>1994</td>\n",
       "      <td>350000</td>\n",
       "    </tr>\n",
       "    <tr>\n",
       "      <th>89633</th>\n",
       "      <td>Serbia and Kosovo: S/RES/1244 (1999)</td>\n",
       "      <td>Bosnia and Herzegovina</td>\n",
       "      <td>1992</td>\n",
       "      <td>349280</td>\n",
       "    </tr>\n",
       "    <tr>\n",
       "      <th>84226</th>\n",
       "      <td>Germany</td>\n",
       "      <td>Bosnia and Herzegovina</td>\n",
       "      <td>1996</td>\n",
       "      <td>330000</td>\n",
       "    </tr>\n",
       "    <tr>\n",
       "      <th>85825</th>\n",
       "      <td>Germany</td>\n",
       "      <td>Bosnia and Herzegovina</td>\n",
       "      <td>1995</td>\n",
       "      <td>320000</td>\n",
       "    </tr>\n",
       "    <tr>\n",
       "      <th>88294</th>\n",
       "      <td>Croatia</td>\n",
       "      <td>Bosnia and Herzegovina</td>\n",
       "      <td>1993</td>\n",
       "      <td>287000</td>\n",
       "    </tr>\n",
       "    <tr>\n",
       "      <th>...</th>\n",
       "      <td>...</td>\n",
       "      <td>...</td>\n",
       "      <td>...</td>\n",
       "      <td>...</td>\n",
       "    </tr>\n",
       "    <tr>\n",
       "      <th>42105</th>\n",
       "      <td>North Macedonia</td>\n",
       "      <td>Bosnia and Herzegovina</td>\n",
       "      <td>2011</td>\n",
       "      <td>0</td>\n",
       "    </tr>\n",
       "    <tr>\n",
       "      <th>52384</th>\n",
       "      <td>North Macedonia</td>\n",
       "      <td>Bosnia and Herzegovina</td>\n",
       "      <td>2008</td>\n",
       "      <td>0</td>\n",
       "    </tr>\n",
       "    <tr>\n",
       "      <th>45596</th>\n",
       "      <td>North Macedonia</td>\n",
       "      <td>Bosnia and Herzegovina</td>\n",
       "      <td>2010</td>\n",
       "      <td>0</td>\n",
       "    </tr>\n",
       "    <tr>\n",
       "      <th>38522</th>\n",
       "      <td>North Macedonia</td>\n",
       "      <td>Bosnia and Herzegovina</td>\n",
       "      <td>2012</td>\n",
       "      <td>0</td>\n",
       "    </tr>\n",
       "    <tr>\n",
       "      <th>49023</th>\n",
       "      <td>North Macedonia</td>\n",
       "      <td>Bosnia and Herzegovina</td>\n",
       "      <td>2009</td>\n",
       "      <td>0</td>\n",
       "    </tr>\n",
       "  </tbody>\n",
       "</table>\n",
       "<p>960 rows × 4 columns</p>\n",
       "</div>"
      ],
      "text/plain": [
       "                                   Acceptor                  Origin  Year  \\\n",
       "87244                               Germany  Bosnia and Herzegovina  1994   \n",
       "89633  Serbia and Kosovo: S/RES/1244 (1999)  Bosnia and Herzegovina  1992   \n",
       "84226                               Germany  Bosnia and Herzegovina  1996   \n",
       "85825                               Germany  Bosnia and Herzegovina  1995   \n",
       "88294                               Croatia  Bosnia and Herzegovina  1993   \n",
       "...                                     ...                     ...   ...   \n",
       "42105                       North Macedonia  Bosnia and Herzegovina  2011   \n",
       "52384                       North Macedonia  Bosnia and Herzegovina  2008   \n",
       "45596                       North Macedonia  Bosnia and Herzegovina  2010   \n",
       "38522                       North Macedonia  Bosnia and Herzegovina  2012   \n",
       "49023                       North Macedonia  Bosnia and Herzegovina  2009   \n",
       "\n",
       "       Refugees  \n",
       "87244    350000  \n",
       "89633    349280  \n",
       "84226    330000  \n",
       "85825    320000  \n",
       "88294    287000  \n",
       "...         ...  \n",
       "42105         0  \n",
       "52384         0  \n",
       "45596         0  \n",
       "38522         0  \n",
       "49023         0  \n",
       "\n",
       "[960 rows x 4 columns]"
      ]
     },
     "execution_count": 38,
     "metadata": {},
     "output_type": "execute_result"
    }
   ],
   "source": [
    "refugees_usa_df = refugees_df[(refugees_df[\"Origin\"]==\"Bosnia and Herzegovina\")]\n",
    "refugees_usa_df.sort_values(by=\"Refugees\", ascending=False)"
   ]
  },
  {
   "cell_type": "code",
   "execution_count": 48,
   "metadata": {},
   "outputs": [
    {
     "name": "stdout",
     "output_type": "stream",
     "text": [
      "Val: 0 ind11\n",
      "Val: 1 ind12\n",
      "Val: 2 ind13\n"
     ]
    }
   ],
   "source": [
    "for val, ind in enumerate([11,12,13]):\n",
    "    print(\"Val: \"+str(val), \"ind\"+str(ind))"
   ]
  },
  {
   "cell_type": "code",
   "execution_count": 34,
   "metadata": {},
   "outputs": [
    {
     "data": {
      "text/plain": [
       "Acceptor       Pakistan\n",
       "Origin      Afghanistan\n",
       "Year               1990\n",
       "Refugees        3253000\n",
       "Name: 90766, dtype: object"
      ]
     },
     "execution_count": 34,
     "metadata": {},
     "output_type": "execute_result"
    }
   ],
   "source": [
    "refugees_df.iloc[90766]"
   ]
  },
  {
   "cell_type": "code",
   "execution_count": 35,
   "metadata": {},
   "outputs": [
    {
     "data": {
      "text/plain": [
       "Acceptor    Iran (Islamic Rep. of)\n",
       "Origin                 Afghanistan\n",
       "Year                          1990\n",
       "Refugees                   3061110\n",
       "Name: 90669, dtype: object"
      ]
     },
     "execution_count": 35,
     "metadata": {},
     "output_type": "execute_result"
    }
   ],
   "source": [
    "refugees_df.iloc[90669]"
   ]
  },
  {
   "cell_type": "code",
   "execution_count": null,
   "metadata": {},
   "outputs": [],
   "source": []
  }
 ],
 "metadata": {
  "kernelspec": {
   "display_name": "base",
   "language": "python",
   "name": "python3"
  },
  "language_info": {
   "codemirror_mode": {
    "name": "ipython",
    "version": 3
   },
   "file_extension": ".py",
   "mimetype": "text/x-python",
   "name": "python",
   "nbconvert_exporter": "python",
   "pygments_lexer": "ipython3",
   "version": "3.8.8"
  },
  "orig_nbformat": 4
 },
 "nbformat": 4,
 "nbformat_minor": 2
}
