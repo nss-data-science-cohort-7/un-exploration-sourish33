{
 "cells": [
  {
   "cell_type": "code",
   "execution_count": 1,
   "metadata": {},
   "outputs": [],
   "source": [
    "import pandas as pd\n",
    "import numpy as np\n",
    "import matplotlib.pyplot as plt\n",
    "import seaborn as sns"
   ]
  },
  {
   "cell_type": "code",
   "execution_count": 5,
   "metadata": {},
   "outputs": [
    {
     "data": {
      "text/html": [
       "<div>\n",
       "<style scoped>\n",
       "    .dataframe tbody tr th:only-of-type {\n",
       "        vertical-align: middle;\n",
       "    }\n",
       "\n",
       "    .dataframe tbody tr th {\n",
       "        vertical-align: top;\n",
       "    }\n",
       "\n",
       "    .dataframe thead th {\n",
       "        text-align: right;\n",
       "    }\n",
       "</style>\n",
       "<table border=\"1\" class=\"dataframe\">\n",
       "  <thead>\n",
       "    <tr style=\"text-align: right;\">\n",
       "      <th></th>\n",
       "      <th>Country or territory of asylum or residence</th>\n",
       "      <th>Country or territory of origin</th>\n",
       "      <th>Year</th>\n",
       "      <th>Refugees*</th>\n",
       "      <th>Refugees assisted by UNHCR</th>\n",
       "      <th>Total refugees and people in refugee-like situations**</th>\n",
       "      <th>Total refugees and people in refugee-like situations assisted by UNHCR</th>\n",
       "    </tr>\n",
       "  </thead>\n",
       "  <tbody>\n",
       "    <tr>\n",
       "      <th>0</th>\n",
       "      <td>Afghanistan</td>\n",
       "      <td>Iran (Islamic Rep. of)</td>\n",
       "      <td>2021</td>\n",
       "      <td>38</td>\n",
       "      <td>38</td>\n",
       "      <td>38</td>\n",
       "      <td>38</td>\n",
       "    </tr>\n",
       "    <tr>\n",
       "      <th>1</th>\n",
       "      <td>Afghanistan</td>\n",
       "      <td>Pakistan</td>\n",
       "      <td>2021</td>\n",
       "      <td>72188</td>\n",
       "      <td>123</td>\n",
       "      <td>72188</td>\n",
       "      <td>123</td>\n",
       "    </tr>\n",
       "    <tr>\n",
       "      <th>2</th>\n",
       "      <td>Albania</td>\n",
       "      <td>China</td>\n",
       "      <td>2021</td>\n",
       "      <td>14</td>\n",
       "      <td>0</td>\n",
       "      <td>14</td>\n",
       "      <td>0</td>\n",
       "    </tr>\n",
       "    <tr>\n",
       "      <th>3</th>\n",
       "      <td>Albania</td>\n",
       "      <td>Egypt</td>\n",
       "      <td>2021</td>\n",
       "      <td>5</td>\n",
       "      <td>0</td>\n",
       "      <td>5</td>\n",
       "      <td>0</td>\n",
       "    </tr>\n",
       "    <tr>\n",
       "      <th>4</th>\n",
       "      <td>Albania</td>\n",
       "      <td>Iraq</td>\n",
       "      <td>2021</td>\n",
       "      <td>5</td>\n",
       "      <td>0</td>\n",
       "      <td>5</td>\n",
       "      <td>0</td>\n",
       "    </tr>\n",
       "  </tbody>\n",
       "</table>\n",
       "</div>"
      ],
      "text/plain": [
       "  Country or territory of asylum or residence Country or territory of origin  \\\n",
       "0                                 Afghanistan         Iran (Islamic Rep. of)   \n",
       "1                                 Afghanistan                       Pakistan   \n",
       "2                                     Albania                          China   \n",
       "3                                     Albania                          Egypt   \n",
       "4                                     Albania                           Iraq   \n",
       "\n",
       "   Year  Refugees*  Refugees assisted by UNHCR  \\\n",
       "0  2021         38                          38   \n",
       "1  2021      72188                         123   \n",
       "2  2021         14                           0   \n",
       "3  2021          5                           0   \n",
       "4  2021          5                           0   \n",
       "\n",
       "   Total refugees and people in refugee-like situations**  \\\n",
       "0                                                 38        \n",
       "1                                              72188        \n",
       "2                                                 14        \n",
       "3                                                  5        \n",
       "4                                                  5        \n",
       "\n",
       "   Total refugees and people in refugee-like situations assisted by UNHCR  \n",
       "0                                                 38                       \n",
       "1                                                123                       \n",
       "2                                                  0                       \n",
       "3                                                  0                       \n",
       "4                                                  0                       "
      ]
     },
     "execution_count": 5,
     "metadata": {},
     "output_type": "execute_result"
    }
   ],
   "source": [
    "refugees_df = pd.read_csv('../data/refugees.csv', skipfooter=4, engine='python')\n",
    "refugees_df.head()\n",
    "\n"
   ]
  },
  {
   "cell_type": "code",
   "execution_count": 6,
   "metadata": {},
   "outputs": [],
   "source": [
    "refugees_df = refugees_df.rename(columns={\"Country or territory of asylum or residence\": \"Acceptor\", \"Country or territory of origin\":\"Origin\", \"Refugees*\": \"Refugees\"})"
   ]
  },
  {
   "cell_type": "code",
   "execution_count": 7,
   "metadata": {},
   "outputs": [
    {
     "data": {
      "text/plain": [
       "False"
      ]
     },
     "execution_count": 7,
     "metadata": {},
     "output_type": "execute_result"
    }
   ],
   "source": [
    "refugees_df.isnull().values.any()"
   ]
  },
  {
   "cell_type": "code",
   "execution_count": 8,
   "metadata": {},
   "outputs": [],
   "source": [
    "cols_to_drop = [x for x in list(refugees_df) if x not in [\"Acceptor\", \"Origin\", \"Refugees\", \"Year\"]]\n",
    "refugees_df = refugees_df.drop(columns=cols_to_drop)"
   ]
  },
  {
   "cell_type": "code",
   "execution_count": 9,
   "metadata": {},
   "outputs": [
    {
     "data": {
      "text/html": [
       "<div>\n",
       "<style scoped>\n",
       "    .dataframe tbody tr th:only-of-type {\n",
       "        vertical-align: middle;\n",
       "    }\n",
       "\n",
       "    .dataframe tbody tr th {\n",
       "        vertical-align: top;\n",
       "    }\n",
       "\n",
       "    .dataframe thead th {\n",
       "        text-align: right;\n",
       "    }\n",
       "</style>\n",
       "<table border=\"1\" class=\"dataframe\">\n",
       "  <thead>\n",
       "    <tr style=\"text-align: right;\">\n",
       "      <th></th>\n",
       "      <th>Acceptor</th>\n",
       "      <th>Origin</th>\n",
       "      <th>Year</th>\n",
       "      <th>Refugees</th>\n",
       "    </tr>\n",
       "  </thead>\n",
       "  <tbody>\n",
       "    <tr>\n",
       "      <th>0</th>\n",
       "      <td>Afghanistan</td>\n",
       "      <td>Iran (Islamic Rep. of)</td>\n",
       "      <td>2021</td>\n",
       "      <td>38</td>\n",
       "    </tr>\n",
       "    <tr>\n",
       "      <th>1</th>\n",
       "      <td>Afghanistan</td>\n",
       "      <td>Pakistan</td>\n",
       "      <td>2021</td>\n",
       "      <td>72188</td>\n",
       "    </tr>\n",
       "    <tr>\n",
       "      <th>2</th>\n",
       "      <td>Albania</td>\n",
       "      <td>China</td>\n",
       "      <td>2021</td>\n",
       "      <td>14</td>\n",
       "    </tr>\n",
       "    <tr>\n",
       "      <th>3</th>\n",
       "      <td>Albania</td>\n",
       "      <td>Egypt</td>\n",
       "      <td>2021</td>\n",
       "      <td>5</td>\n",
       "    </tr>\n",
       "    <tr>\n",
       "      <th>4</th>\n",
       "      <td>Albania</td>\n",
       "      <td>Iraq</td>\n",
       "      <td>2021</td>\n",
       "      <td>5</td>\n",
       "    </tr>\n",
       "  </tbody>\n",
       "</table>\n",
       "</div>"
      ],
      "text/plain": [
       "      Acceptor                  Origin  Year  Refugees\n",
       "0  Afghanistan  Iran (Islamic Rep. of)  2021        38\n",
       "1  Afghanistan                Pakistan  2021     72188\n",
       "2      Albania                   China  2021        14\n",
       "3      Albania                   Egypt  2021         5\n",
       "4      Albania                    Iraq  2021         5"
      ]
     },
     "execution_count": 9,
     "metadata": {},
     "output_type": "execute_result"
    }
   ],
   "source": [
    "refugees_df.head()"
   ]
  },
  {
   "cell_type": "markdown",
   "metadata": {},
   "source": [
    "<style>\n",
    "    .md {\n",
    "        background-color: #42EADDFF;\n",
    "        color: #000000FF;\n",
    "    }\n",
    "</style>\n",
    "<div class=\"md\">\n",
    "<ul>\n",
    "<li>How many countries of origin and acceptors?  </li>\n",
    "<li>What is the time frame of the data? </li>\n",
    "<ul>\n",
    "</div>"
   ]
  },
  {
   "cell_type": "code",
   "execution_count": 14,
   "metadata": {},
   "outputs": [
    {
     "name": "stdout",
     "output_type": "stream",
     "text": [
      "Number of Host Countries:  183\n",
      "Number of Origin Countries:  201\n",
      "Years of Data:  47 from  1975 to 2021\n"
     ]
    }
   ],
   "source": [
    "print(\"Number of Host Countries: \", refugees_df[\"Acceptor\"].nunique())\n",
    "print(\"Number of Origin Countries: \", refugees_df[\"Origin\"].nunique())\n",
    "print(\"Years of Data: \", refugees_df[\"Year\"].nunique(), \"from \", refugees_df[\"Year\"].min(), \"to\", refugees_df[\"Year\"].max())"
   ]
  },
  {
   "cell_type": "markdown",
   "metadata": {},
   "source": [
    "<style>\n",
    "    .md {\n",
    "        background-color: #42EADDFF;\n",
    "        color: #000000FF;\n",
    "        margin-top: 20px;\n",
    "        margin-bottom:20px;\n",
    "    }\n",
    "</style>\n",
    "<div class=\"md\">\n",
    "<ul>\n",
    "<li>How many total refugees were there in each year? Show a graph.  </li>\n",
    "<ul>\n",
    "</div>\n"
   ]
  },
  {
   "cell_type": "code",
   "execution_count": 103,
   "metadata": {},
   "outputs": [
    {
     "data": {
      "image/png": "[encoded data removed]",
      "text/plain": [
       "<Figure size 432x288 with 1 Axes>"
      ]
     },
     "metadata": {
      "needs_background": "light"
     },
     "output_type": "display_data"
    }
   ],
   "source": [
    "refugees_by_year_df = refugees_df.groupby(by=\"Year\").sum()\n",
    "refugees_by_year_df = refugees_by_year_df.reset_index()\n",
    "plt.scatter(refugees_by_year_df[\"Year\"], refugees_by_year_df[\"Refugees\"]/1000000)\n",
    "plt.ylabel(\"Total Refugees (millions)\")\n",
    "plt.xlabel(\"Years\")\n",
    "plt.show()"
   ]
  },
  {
   "cell_type": "markdown",
   "metadata": {},
   "source": [
    "<style>\n",
    "    .md {\n",
    "        background-color: #42EADDFF;\n",
    "        color: #000000FF;\n",
    "    }\n",
    "</style>\n",
    "<div class=\"md\">\n",
    "<ul>\n",
    "<li>What are the top 5 countries that refugees originated from in any given year? </li>\n",
    "<li>What are the top 5 countries that refugees migrated to in the same year? </li>\n",
    "<li>Show both numerical values and percentages.</li>\n",
    "<ul>\n",
    "</div>"
   ]
  },
  {
   "cell_type": "code",
   "execution_count": 55,
   "metadata": {},
   "outputs": [],
   "source": [
    "# Creating a function to get the total number of refugees in a given year\n",
    "def total_refugees_by_year(yr):\n",
    "    return refugees_df[refugees_df[\"Year\"] == yr][\"Refugees\"].sum()\n",
    "\n",
    "\n",
    "# Creating a function to get the total number of refugees in any year for both Origin countries and Host Countries \n",
    "def total_refugees_by_year_and_country(yr, country_type=\"Origin\"):\n",
    "    total = total_refugees_by_year(yr)\n",
    "    grouped = refugees_df[refugees_df[\"Year\"] == yr].groupby(by=country_type).sum()\n",
    "    df = grouped.reset_index()\n",
    "    df = df.drop(columns=[\"Year\"])\n",
    "    df[\"Percentage\"] = 100*df[\"Refugees\"]/total\n",
    "    return df.sort_values(by=\"Refugees\", ascending=False).round({\"Percentage\":0})\n",
    "\n",
    "\n"
   ]
  },
  {
   "cell_type": "code",
   "execution_count": 76,
   "metadata": {},
   "outputs": [
    {
     "data": {
      "image/png": "[encoded data removed]",
      "text/plain": [
       "<Figure size 576x432 with 2 Axes>"
      ]
     },
     "metadata": {
      "needs_background": "light"
     },
     "output_type": "display_data"
    }
   ],
   "source": [
    "yr = 2021\n",
    "donors = total_refugees_by_year_and_country(yr, \"Origin\").head()\n",
    "hosts = total_refugees_by_year_and_country(yr, \"Acceptor\").head()\n",
    "# Create a figure and two subplots\n",
    "fig, axes = plt.subplots(nrows=2, ncols=1, figsize=(8, 6))\n",
    "\n",
    "# Plot the donors data on the first subplot\n",
    "sns.barplot(data=donors, x=\"Percentage\", y=\"Origin\", ax=axes[0])\n",
    "axes[0].set_title(\"Donors\")\n",
    "\n",
    "# Plot the hosts data on the second subplot\n",
    "sns.barplot(data=hosts, x=\"Percentage\", y=\"Acceptor\", ax=axes[1])\n",
    "axes[1].set_title(\"Hosts\")\n",
    "\n",
    "# Adjust layout and show the plots\n",
    "plt.tight_layout()\n",
    "plt.show()"
   ]
  },
  {
   "cell_type": "code",
   "execution_count": null,
   "metadata": {},
   "outputs": [],
   "source": [
    "country_list = refugees_df[\"Acceptor\"].unique()"
   ]
  },
  {
   "cell_type": "markdown",
   "metadata": {},
   "source": [
    "Create a function to show the refugee acceptance history of any country"
   ]
  },
  {
   "cell_type": "code",
   "execution_count": null,
   "metadata": {},
   "outputs": [
    {
     "data": {
      "text/plain": [
       "array(['Afghanistan', 'Albania', 'Algeria', 'Angola', 'Argentina',\n",
       "       'Armenia', 'Australia', 'Austria', 'Azerbaijan', 'Bahamas',\n",
       "       'Bahrain', 'Bangladesh', 'Belarus', 'Belgium', 'Belize', 'Benin',\n",
       "       'Bolivia (Plurinational State of)', 'Bosnia and Herzegovina',\n",
       "       'Botswana', 'Brazil', 'Bulgaria', 'Burkina Faso', 'Burundi',\n",
       "       'Cambodia', 'Cameroon', 'Canada', 'Cayman Islands',\n",
       "       'Central African Rep.', 'Chad', 'Chile', 'China',\n",
       "       'China, Hong Kong SAR', 'Colombia', 'Congo, Republic of',\n",
       "       'Costa Rica', \"Côte d'Ivoire\", 'Croatia', 'Cuba', 'Curaçao',\n",
       "       'Cyprus', 'Czechia', 'Dem. Rep. of the Congo', 'Denmark',\n",
       "       'Djibouti', 'Dominican Rep.', 'Ecuador', 'Egypt', 'El Salvador',\n",
       "       'Eritrea', 'Estonia', 'Eswatini', 'Ethiopia', 'Fiji', 'Finland',\n",
       "       'France', 'Gabon', 'Gambia', 'Georgia', 'Germany', 'Ghana',\n",
       "       'Greece', 'Guatemala', 'Guinea', 'Guinea-Bissau', 'Guyana',\n",
       "       'Honduras', 'Hungary', 'Iceland', 'India', 'Indonesia',\n",
       "       'Iran (Islamic Rep. of)', 'Iraq', 'Ireland', 'Israel', 'Italy',\n",
       "       'Jamaica', 'Japan', 'Jordan', 'Kazakhstan', 'Kenya', 'Kuwait',\n",
       "       'Kyrgyzstan', 'Latvia', 'Lebanon', 'Lesotho', 'Liberia', 'Libya',\n",
       "       'Liechtenstein', 'Lithuania', 'Luxembourg', 'Madagascar', 'Malawi',\n",
       "       'Malaysia', 'Mali', 'Malta', 'Mauritania', 'Mauritius', 'Mexico',\n",
       "       'Monaco', 'Montenegro', 'Morocco', 'Mozambique', 'Namibia',\n",
       "       'Nauru', 'Nepal', 'Netherlands', 'New Zealand', 'Nicaragua',\n",
       "       'Niger', 'Nigeria', 'North Macedonia', 'Norway', 'Oman',\n",
       "       'Pakistan', 'Panama', 'Papua New Guinea', 'Paraguay', 'Peru',\n",
       "       'Philippines', 'Poland', 'Portugal', 'Qatar', 'Rep. of Korea',\n",
       "       'Rep. of Moldova', 'Romania', 'Russian Federation', 'Rwanda',\n",
       "       'Saudi Arabia', 'Senegal', 'Serbia and Kosovo: S/RES/1244 (1999)',\n",
       "       'Sierra Leone', 'Slovakia', 'Slovenia', 'Somalia', 'South Africa',\n",
       "       'South Sudan', 'Spain', 'Sri Lanka', 'Sudan', 'Suriname', 'Sweden',\n",
       "       'Switzerland', 'Syrian Arab Rep.', 'Tajikistan', 'Thailand',\n",
       "       'Togo', 'Trinidad and Tobago', 'Tunisia', 'Turkey', 'Turkmenistan',\n",
       "       'Turks and Caicos Islands', 'Uganda', 'Ukraine',\n",
       "       'United Arab Emirates', 'United Kingdom',\n",
       "       'United Rep. of Tanzania', 'United States of America', 'Uruguay',\n",
       "       'Uzbekistan', 'Venezuela (Bolivarian Republic of)', 'Yemen',\n",
       "       'Zambia', 'Zimbabwe', 'Saint Kitts and Nevis',\n",
       "       'Sint Maarten (Dutch part)', 'Haiti', 'Mongolia', 'Samoa',\n",
       "       'Antigua and Barbuda', 'Micronesia (Federated States of)',\n",
       "       'Solomon Islands', 'Singapore', 'Saint Lucia', 'Grenada',\n",
       "       'Viet Nam', 'Vanuatu', 'China, Macao SAR', 'Palau', 'Comoros',\n",
       "       'French Guiana', 'Unknown/other', 'Cabo Verde',\n",
       "       \"Lao People's Dem. Rep.\"], dtype=object)"
      ]
     },
     "execution_count": 61,
     "metadata": {},
     "output_type": "execute_result"
    }
   ],
   "source": [
    "country_list"
   ]
  },
  {
   "cell_type": "code",
   "execution_count": 90,
   "metadata": {},
   "outputs": [],
   "source": [
    "def refugee_acceptance_history(country):\n",
    "    df = refugees_df[refugees_df[\"Acceptor\"]==country].groupby(by=\"Year\").sum()\n",
    "    df.reset_index(inplace=True)\n",
    "    df[\"Total Refugees\"] = df[\"Year\"].apply(total_refugees_by_year)\n",
    "    df[\"Percentage\"] = 100*df[\"Refugees\"]/df[\"Total Refugees\"]\n",
    "    return df"
   ]
  },
  {
   "cell_type": "code",
   "execution_count": null,
   "metadata": {},
   "outputs": [],
   "source": []
  },
  {
   "cell_type": "code",
   "execution_count": 96,
   "metadata": {},
   "outputs": [
    {
     "data": {
      "image/png": "[encoded data removed]",
      "text/plain": [
       "<Figure size 720x864 with 2 Axes>"
      ]
     },
     "metadata": {
      "needs_background": "light"
     },
     "output_type": "display_data"
    }
   ],
   "source": [
    "# Genrate the data for the country of choice\n",
    "country = \"United States of America\"\n",
    "df = refugee_acceptance_history(country)\n",
    "\n",
    "\n",
    "# Create a 1x2 grid for subplots (2 row, 1 columns)\n",
    "fig, (ax1, ax2) = plt.subplots(2, 1, figsize=(10, 12))  # Adjust the figsize as needed\n",
    "\n",
    "# Scatter plot for Percentage\n",
    "ax2.scatter(df[\"Year\"], df[\"Percentage\"], label=\"Percentage\", marker=\"o\", color=\"blue\")\n",
    "ax2.set_xlabel(\"Year\")\n",
    "ax2.set_ylabel(\"Percentage\")\n",
    "ax2.set_title(\"Percentage of Total Refugees Accepted: \"+country)\n",
    "ax2.grid(True)  # Optional: Add a grid\n",
    "ax2.legend()\n",
    "\n",
    "# Scatter plot for Refugees\n",
    "ax1.scatter(df[\"Year\"], df[\"Refugees\"], label=\"Refugees\", marker=\"x\", color=\"red\")\n",
    "ax1.set_xlabel(\"Year\")\n",
    "ax1.set_ylabel(\"Refugees\")\n",
    "ax1.set_title(\"Number of Total Refugees Accepted: \"+country)\n",
    "ax1.grid(True)  # Optional: Add a grid\n",
    "ax1.legend()\n",
    "\n",
    "# Adjust the layout to avoid overlapping labels\n",
    "plt.tight_layout()\n",
    "\n",
    "# Show the plot\n",
    "plt.show()"
   ]
  }
 ],
 "metadata": {
  "kernelspec": {
   "display_name": "base",
   "language": "python",
   "name": "python3"
  },
  "language_info": {
   "codemirror_mode": {
    "name": "ipython",
    "version": 3
   },
   "file_extension": ".py",
   "mimetype": "text/x-python",
   "name": "python",
   "nbconvert_exporter": "python",
   "pygments_lexer": "ipython3",
   "version": "3.8.8"
  },
  "orig_nbformat": 4
 },
 "nbformat": 4,
 "nbformat_minor": 2
}
